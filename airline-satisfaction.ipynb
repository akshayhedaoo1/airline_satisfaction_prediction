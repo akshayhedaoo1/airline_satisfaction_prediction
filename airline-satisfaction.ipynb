{
  "nbformat": 4,
  "nbformat_minor": 0,
  "metadata": {
    "accelerator": "GPU",
    "colab": {
      "name": "airline-satisfaction.ipynb",
      "provenance": []
    },
    "kernelspec": {
      "display_name": "Python 3",
      "language": "python",
      "name": "python3"
    },
    "language_info": {
      "codemirror_mode": {
        "name": "ipython",
        "version": 3
      },
      "file_extension": ".py",
      "mimetype": "text/x-python",
      "name": "python",
      "nbconvert_exporter": "python",
      "pygments_lexer": "ipython3",
      "version": "3.8.5"
    }
  },
  "cells": [
    {
      "cell_type": "markdown",
      "metadata": {
        "id": "wQ_9nrN477yK"
      },
      "source": [
        "# Case Study\n",
        "In this task, we are predicting Airline satisfaction of Customers based on the Reviews given by the Customers in different Categories such as On-board service, Leg room service, Baggage handling, Checkin service etc. \n",
        "Here, we have 25 features in which satisfaction is our target.\n",
        "\n",
        "Step 1 : Data Understanding and Exploration\n",
        " \n",
        "Step 2 : Data Preparation\n",
        "\n",
        "Step 3 : Model Building and Training using various Models such as Logistic Regression, Decision Tree, K-nearest Neighbors, Random Forest\n",
        "\n",
        "Step 4 : Evaluation using various metrics\n"
      ]
    },
    {
      "cell_type": "code",
      "metadata": {
        "id": "f7DGL9Xr77yY"
      },
      "source": [
        "# This Python 3 environment comes with many helpful analytics libraries installed\n",
        "# It is defined by the kaggle/python Docker image: https://github.com/kaggle/docker-python\n",
        "# For example, here's several helpful packages to load\n",
        "\n",
        "import numpy as np # linear algebra\n",
        "import pandas as pd # data processing, CSV file I/O (e.g. pd.read_csv)\n",
        "import seaborn as sns\n",
        "import matplotlib.pyplot as plt\n",
        "# Input data files are available in the read-only \"../input/\" directory\n",
        "# For example, running this (by clicking run or pressing Shift+Enter) will list all files under the input directory\n",
        "\n",
        "import os\n",
        "for dirname, _, filenames in os.walk('/kaggle/input'):\n",
        "    for filename in filenames:\n",
        "        print(os.path.join(dirname, filename))\n",
        "\n",
        "# You can write up to 20GB to the current directory (/kaggle/working/) that gets preserved as output when you create a version using \"Save & Run All\" \n",
        "# You can also write temporary files to /kaggle/temp/, but they won't be saved outside of the current session"
      ],
      "execution_count": null,
      "outputs": []
    },
    {
      "cell_type": "markdown",
      "metadata": {
        "id": "ojthhVOl77yc"
      },
      "source": [
        "# Data Understanding and Exploration"
      ]
    },
    {
      "cell_type": "code",
      "metadata": {
        "id": "4z2T3GdR77yd"
      },
      "source": [
        "# Read Data\n",
        "df = pd.read_csv(r'/content/airline_pred.csv')"
      ],
      "execution_count": null,
      "outputs": []
    },
    {
      "cell_type": "code",
      "metadata": {
        "id": "7Q7tg6Cj77yf"
      },
      "source": [
        "import warnings\n",
        "warnings.filterwarnings(\"ignore\")"
      ],
      "execution_count": null,
      "outputs": []
    },
    {
      "cell_type": "code",
      "metadata": {
        "colab": {
          "base_uri": "https://localhost:8080/",
          "height": 364
        },
        "id": "KMHidTju77yg",
        "outputId": "ff28e9a0-378a-4584-c6e8-399b1f71c846"
      },
      "source": [
        "df.head()"
      ],
      "execution_count": null,
      "outputs": [
        {
          "data": {
            "text/html": [
              "<div>\n",
              "<style scoped>\n",
              "    .dataframe tbody tr th:only-of-type {\n",
              "        vertical-align: middle;\n",
              "    }\n",
              "\n",
              "    .dataframe tbody tr th {\n",
              "        vertical-align: top;\n",
              "    }\n",
              "\n",
              "    .dataframe thead th {\n",
              "        text-align: right;\n",
              "    }\n",
              "</style>\n",
              "<table border=\"1\" class=\"dataframe\">\n",
              "  <thead>\n",
              "    <tr style=\"text-align: right;\">\n",
              "      <th></th>\n",
              "      <th>Unnamed: 0</th>\n",
              "      <th>id</th>\n",
              "      <th>Gender</th>\n",
              "      <th>Customer Type</th>\n",
              "      <th>Age</th>\n",
              "      <th>Type of Travel</th>\n",
              "      <th>Class</th>\n",
              "      <th>Flight Distance</th>\n",
              "      <th>Inflight wifi service</th>\n",
              "      <th>Departure/Arrival time convenient</th>\n",
              "      <th>Ease of Online booking</th>\n",
              "      <th>Gate location</th>\n",
              "      <th>Food and drink</th>\n",
              "      <th>Online boarding</th>\n",
              "      <th>Seat comfort</th>\n",
              "      <th>Inflight entertainment</th>\n",
              "      <th>On-board service</th>\n",
              "      <th>Leg room service</th>\n",
              "      <th>Baggage handling</th>\n",
              "      <th>Checkin service</th>\n",
              "      <th>Inflight service</th>\n",
              "      <th>Cleanliness</th>\n",
              "      <th>Departure Delay in Minutes</th>\n",
              "      <th>Arrival Delay in Minutes</th>\n",
              "      <th>satisfaction</th>\n",
              "    </tr>\n",
              "  </thead>\n",
              "  <tbody>\n",
              "    <tr>\n",
              "      <th>0</th>\n",
              "      <td>0</td>\n",
              "      <td>70172</td>\n",
              "      <td>Male</td>\n",
              "      <td>Loyal Customer</td>\n",
              "      <td>13</td>\n",
              "      <td>Personal Travel</td>\n",
              "      <td>Eco Plus</td>\n",
              "      <td>460.0</td>\n",
              "      <td>3.0</td>\n",
              "      <td>4.0</td>\n",
              "      <td>3.0</td>\n",
              "      <td>1.0</td>\n",
              "      <td>5.0</td>\n",
              "      <td>3.0</td>\n",
              "      <td>5.0</td>\n",
              "      <td>5.0</td>\n",
              "      <td>4.0</td>\n",
              "      <td>3.0</td>\n",
              "      <td>4.0</td>\n",
              "      <td>4.0</td>\n",
              "      <td>5.0</td>\n",
              "      <td>5.0</td>\n",
              "      <td>25.0</td>\n",
              "      <td>18.0</td>\n",
              "      <td>neutral or dissatisfied</td>\n",
              "    </tr>\n",
              "    <tr>\n",
              "      <th>1</th>\n",
              "      <td>1</td>\n",
              "      <td>5047</td>\n",
              "      <td>Male</td>\n",
              "      <td>disloyal Customer</td>\n",
              "      <td>25</td>\n",
              "      <td>Business travel</td>\n",
              "      <td>Business</td>\n",
              "      <td>235.0</td>\n",
              "      <td>3.0</td>\n",
              "      <td>2.0</td>\n",
              "      <td>3.0</td>\n",
              "      <td>3.0</td>\n",
              "      <td>1.0</td>\n",
              "      <td>3.0</td>\n",
              "      <td>1.0</td>\n",
              "      <td>1.0</td>\n",
              "      <td>1.0</td>\n",
              "      <td>5.0</td>\n",
              "      <td>3.0</td>\n",
              "      <td>1.0</td>\n",
              "      <td>4.0</td>\n",
              "      <td>1.0</td>\n",
              "      <td>1.0</td>\n",
              "      <td>6.0</td>\n",
              "      <td>neutral or dissatisfied</td>\n",
              "    </tr>\n",
              "    <tr>\n",
              "      <th>2</th>\n",
              "      <td>2</td>\n",
              "      <td>110028</td>\n",
              "      <td>Female</td>\n",
              "      <td>Loyal Customer</td>\n",
              "      <td>26</td>\n",
              "      <td>Business travel</td>\n",
              "      <td>Business</td>\n",
              "      <td>1142.0</td>\n",
              "      <td>2.0</td>\n",
              "      <td>2.0</td>\n",
              "      <td>2.0</td>\n",
              "      <td>2.0</td>\n",
              "      <td>5.0</td>\n",
              "      <td>5.0</td>\n",
              "      <td>5.0</td>\n",
              "      <td>5.0</td>\n",
              "      <td>4.0</td>\n",
              "      <td>3.0</td>\n",
              "      <td>4.0</td>\n",
              "      <td>4.0</td>\n",
              "      <td>4.0</td>\n",
              "      <td>5.0</td>\n",
              "      <td>0.0</td>\n",
              "      <td>0.0</td>\n",
              "      <td>satisfied</td>\n",
              "    </tr>\n",
              "    <tr>\n",
              "      <th>3</th>\n",
              "      <td>3</td>\n",
              "      <td>24026</td>\n",
              "      <td>Female</td>\n",
              "      <td>Loyal Customer</td>\n",
              "      <td>25</td>\n",
              "      <td>Business travel</td>\n",
              "      <td>Business</td>\n",
              "      <td>562.0</td>\n",
              "      <td>2.0</td>\n",
              "      <td>5.0</td>\n",
              "      <td>5.0</td>\n",
              "      <td>5.0</td>\n",
              "      <td>2.0</td>\n",
              "      <td>2.0</td>\n",
              "      <td>2.0</td>\n",
              "      <td>2.0</td>\n",
              "      <td>2.0</td>\n",
              "      <td>5.0</td>\n",
              "      <td>3.0</td>\n",
              "      <td>1.0</td>\n",
              "      <td>4.0</td>\n",
              "      <td>2.0</td>\n",
              "      <td>11.0</td>\n",
              "      <td>9.0</td>\n",
              "      <td>neutral or dissatisfied</td>\n",
              "    </tr>\n",
              "    <tr>\n",
              "      <th>4</th>\n",
              "      <td>4</td>\n",
              "      <td>119299</td>\n",
              "      <td>Male</td>\n",
              "      <td>Loyal Customer</td>\n",
              "      <td>61</td>\n",
              "      <td>Business travel</td>\n",
              "      <td>Business</td>\n",
              "      <td>214.0</td>\n",
              "      <td>3.0</td>\n",
              "      <td>3.0</td>\n",
              "      <td>3.0</td>\n",
              "      <td>3.0</td>\n",
              "      <td>4.0</td>\n",
              "      <td>5.0</td>\n",
              "      <td>5.0</td>\n",
              "      <td>3.0</td>\n",
              "      <td>3.0</td>\n",
              "      <td>4.0</td>\n",
              "      <td>4.0</td>\n",
              "      <td>3.0</td>\n",
              "      <td>3.0</td>\n",
              "      <td>3.0</td>\n",
              "      <td>0.0</td>\n",
              "      <td>0.0</td>\n",
              "      <td>satisfied</td>\n",
              "    </tr>\n",
              "  </tbody>\n",
              "</table>\n",
              "</div>"
            ],
            "text/plain": [
              "   Unnamed: 0      id  ... Arrival Delay in Minutes             satisfaction\n",
              "0           0   70172  ...                     18.0  neutral or dissatisfied\n",
              "1           1    5047  ...                      6.0  neutral or dissatisfied\n",
              "2           2  110028  ...                      0.0                satisfied\n",
              "3           3   24026  ...                      9.0  neutral or dissatisfied\n",
              "4           4  119299  ...                      0.0                satisfied\n",
              "\n",
              "[5 rows x 25 columns]"
            ]
          },
          "execution_count": 7,
          "metadata": {},
          "output_type": "execute_result"
        }
      ]
    },
    {
      "cell_type": "code",
      "metadata": {
        "colab": {
          "base_uri": "https://localhost:8080/"
        },
        "id": "1MBDTkUb77yi",
        "outputId": "89cc255f-f1cd-4380-ea01-6e92a1656d52"
      },
      "source": [
        "df.info()"
      ],
      "execution_count": null,
      "outputs": [
        {
          "name": "stdout",
          "output_type": "stream",
          "text": [
            "<class 'pandas.core.frame.DataFrame'>\n",
            "RangeIndex: 80467 entries, 0 to 80466\n",
            "Data columns (total 25 columns):\n",
            " #   Column                             Non-Null Count  Dtype  \n",
            "---  ------                             --------------  -----  \n",
            " 0   Unnamed: 0                         80467 non-null  int64  \n",
            " 1   id                                 80467 non-null  int64  \n",
            " 2   Gender                             80467 non-null  object \n",
            " 3   Customer Type                      80467 non-null  object \n",
            " 4   Age                                80467 non-null  int64  \n",
            " 5   Type of Travel                     80467 non-null  object \n",
            " 6   Class                              80466 non-null  object \n",
            " 7   Flight Distance                    80466 non-null  float64\n",
            " 8   Inflight wifi service              80466 non-null  float64\n",
            " 9   Departure/Arrival time convenient  80466 non-null  float64\n",
            " 10  Ease of Online booking             80466 non-null  float64\n",
            " 11  Gate location                      80466 non-null  float64\n",
            " 12  Food and drink                     80466 non-null  float64\n",
            " 13  Online boarding                    80466 non-null  float64\n",
            " 14  Seat comfort                       80466 non-null  float64\n",
            " 15  Inflight entertainment             80466 non-null  float64\n",
            " 16  On-board service                   80466 non-null  float64\n",
            " 17  Leg room service                   80466 non-null  float64\n",
            " 18  Baggage handling                   80466 non-null  float64\n",
            " 19  Checkin service                    80466 non-null  float64\n",
            " 20  Inflight service                   80466 non-null  float64\n",
            " 21  Cleanliness                        80466 non-null  float64\n",
            " 22  Departure Delay in Minutes         80466 non-null  float64\n",
            " 23  Arrival Delay in Minutes           80228 non-null  float64\n",
            " 24  satisfaction                       80466 non-null  object \n",
            "dtypes: float64(17), int64(3), object(5)\n",
            "memory usage: 15.3+ MB\n"
          ]
        }
      ]
    },
    {
      "cell_type": "code",
      "metadata": {
        "colab": {
          "base_uri": "https://localhost:8080/"
        },
        "id": "sMUlnaVm77yk",
        "outputId": "6933ff40-2939-4839-a237-7f045e83f18c"
      },
      "source": [
        "# Target variable\n",
        "df['satisfaction'].value_counts()"
      ],
      "execution_count": null,
      "outputs": [
        {
          "data": {
            "text/plain": [
              "neutral or dissatisfied    45532\n",
              "satisfied                  34934\n",
              "Name: satisfaction, dtype: int64"
            ]
          },
          "execution_count": 9,
          "metadata": {},
          "output_type": "execute_result"
        }
      ]
    },
    {
      "cell_type": "code",
      "metadata": {
        "colab": {
          "base_uri": "https://localhost:8080/"
        },
        "id": "pSe8FMRI77yl",
        "outputId": "48c46521-0bdf-4fde-c01f-47213632676d"
      },
      "source": [
        "# Check for Null values\n",
        "df.isnull().sum()"
      ],
      "execution_count": null,
      "outputs": [
        {
          "data": {
            "text/plain": [
              "Unnamed: 0                             0\n",
              "id                                     0\n",
              "Gender                                 0\n",
              "Customer Type                          0\n",
              "Age                                    0\n",
              "Type of Travel                         0\n",
              "Class                                  1\n",
              "Flight Distance                        1\n",
              "Inflight wifi service                  1\n",
              "Departure/Arrival time convenient      1\n",
              "Ease of Online booking                 1\n",
              "Gate location                          1\n",
              "Food and drink                         1\n",
              "Online boarding                        1\n",
              "Seat comfort                           1\n",
              "Inflight entertainment                 1\n",
              "On-board service                       1\n",
              "Leg room service                       1\n",
              "Baggage handling                       1\n",
              "Checkin service                        1\n",
              "Inflight service                       1\n",
              "Cleanliness                            1\n",
              "Departure Delay in Minutes             1\n",
              "Arrival Delay in Minutes             239\n",
              "satisfaction                           1\n",
              "dtype: int64"
            ]
          },
          "execution_count": 10,
          "metadata": {},
          "output_type": "execute_result"
        }
      ]
    },
    {
      "cell_type": "code",
      "metadata": {
        "colab": {
          "base_uri": "https://localhost:8080/"
        },
        "id": "c_qAef7t77yn",
        "outputId": "265fe5b5-5772-47bd-a28f-51eb9ebfb40d"
      },
      "source": [
        "# Remove Null values\n",
        "df.dropna(inplace = True)\n",
        "df.shape"
      ],
      "execution_count": null,
      "outputs": [
        {
          "data": {
            "text/plain": [
              "(80228, 25)"
            ]
          },
          "execution_count": 11,
          "metadata": {},
          "output_type": "execute_result"
        }
      ]
    },
    {
      "cell_type": "code",
      "metadata": {
        "colab": {
          "base_uri": "https://localhost:8080/"
        },
        "id": "O3BrVHK077yp",
        "outputId": "e2e0c894-a287-4d56-d7c8-a366d496c3d7"
      },
      "source": [
        "# Check for Null values\n",
        "df.isnull().sum()"
      ],
      "execution_count": null,
      "outputs": [
        {
          "data": {
            "text/plain": [
              "Unnamed: 0                           0\n",
              "id                                   0\n",
              "Gender                               0\n",
              "Customer Type                        0\n",
              "Age                                  0\n",
              "Type of Travel                       0\n",
              "Class                                0\n",
              "Flight Distance                      0\n",
              "Inflight wifi service                0\n",
              "Departure/Arrival time convenient    0\n",
              "Ease of Online booking               0\n",
              "Gate location                        0\n",
              "Food and drink                       0\n",
              "Online boarding                      0\n",
              "Seat comfort                         0\n",
              "Inflight entertainment               0\n",
              "On-board service                     0\n",
              "Leg room service                     0\n",
              "Baggage handling                     0\n",
              "Checkin service                      0\n",
              "Inflight service                     0\n",
              "Cleanliness                          0\n",
              "Departure Delay in Minutes           0\n",
              "Arrival Delay in Minutes             0\n",
              "satisfaction                         0\n",
              "dtype: int64"
            ]
          },
          "execution_count": 12,
          "metadata": {},
          "output_type": "execute_result"
        }
      ]
    },
    {
      "cell_type": "code",
      "metadata": {
        "colab": {
          "base_uri": "https://localhost:8080/"
        },
        "id": "_rsr2_3c77yq",
        "outputId": "4cd7534d-03ba-483e-b028-0bb8b8dff8a0"
      },
      "source": [
        "df['Gender'].value_counts()"
      ],
      "execution_count": null,
      "outputs": [
        {
          "data": {
            "text/plain": [
              "Female    40807\n",
              "Male      39421\n",
              "Name: Gender, dtype: int64"
            ]
          },
          "execution_count": 13,
          "metadata": {},
          "output_type": "execute_result"
        }
      ]
    },
    {
      "cell_type": "code",
      "metadata": {
        "colab": {
          "base_uri": "https://localhost:8080/"
        },
        "id": "AcXp0rGW77yr",
        "outputId": "ca887188-0072-468d-c377-c6e32b303f1a"
      },
      "source": [
        "df['Customer Type'].value_counts()"
      ],
      "execution_count": null,
      "outputs": [
        {
          "data": {
            "text/plain": [
              "Loyal Customer       65460\n",
              "disloyal Customer    14768\n",
              "Name: Customer Type, dtype: int64"
            ]
          },
          "execution_count": 14,
          "metadata": {},
          "output_type": "execute_result"
        }
      ]
    },
    {
      "cell_type": "code",
      "metadata": {
        "colab": {
          "base_uri": "https://localhost:8080/"
        },
        "id": "5EHswdR777ys",
        "outputId": "6bfad528-4202-40db-ba66-9be973f5b229"
      },
      "source": [
        "df['Type of Travel'].value_counts()"
      ],
      "execution_count": null,
      "outputs": [
        {
          "data": {
            "text/plain": [
              "Business travel    55395\n",
              "Personal Travel    24833\n",
              "Name: Type of Travel, dtype: int64"
            ]
          },
          "execution_count": 15,
          "metadata": {},
          "output_type": "execute_result"
        }
      ]
    },
    {
      "cell_type": "code",
      "metadata": {
        "colab": {
          "base_uri": "https://localhost:8080/"
        },
        "id": "4bnkZXm177yt",
        "outputId": "34ff068d-65af-4cd3-f930-40d51af6cfa0"
      },
      "source": [
        "df['Class'].value_counts()"
      ],
      "execution_count": null,
      "outputs": [
        {
          "data": {
            "text/plain": [
              "Business    38388\n",
              "Eco         36030\n",
              "Eco Plus     5810\n",
              "Name: Class, dtype: int64"
            ]
          },
          "execution_count": 16,
          "metadata": {},
          "output_type": "execute_result"
        }
      ]
    },
    {
      "cell_type": "code",
      "metadata": {
        "colab": {
          "base_uri": "https://localhost:8080/"
        },
        "id": "q6n1VI-b77yu",
        "outputId": "98352fbf-64db-4794-dda8-c287c4010a5b"
      },
      "source": [
        "df['Inflight wifi service'] = df['Inflight wifi service'].astype('object')\n",
        "df['Inflight wifi service'].value_counts()"
      ],
      "execution_count": null,
      "outputs": [
        {
          "data": {
            "text/plain": [
              "3.0    19990\n",
              "2.0    19875\n",
              "4.0    15302\n",
              "1.0    13746\n",
              "5.0     8887\n",
              "0.0     2428\n",
              "Name: Inflight wifi service, dtype: int64"
            ]
          },
          "execution_count": 17,
          "metadata": {},
          "output_type": "execute_result"
        }
      ]
    },
    {
      "cell_type": "code",
      "metadata": {
        "colab": {
          "base_uri": "https://localhost:8080/"
        },
        "id": "QK2HxS-n77yv",
        "outputId": "efb49daf-f856-481e-b805-ecdff0f5b1f1"
      },
      "source": [
        "df['Departure/Arrival time convenient'] = df['Departure/Arrival time convenient'].astype('object')\n",
        "df['Departure/Arrival time convenient'].value_counts()"
      ],
      "execution_count": null,
      "outputs": [
        {
          "data": {
            "text/plain": [
              "4.0    19744\n",
              "5.0    17245\n",
              "3.0    13902\n",
              "2.0    13191\n",
              "1.0    12014\n",
              "0.0     4132\n",
              "Name: Departure/Arrival time convenient, dtype: int64"
            ]
          },
          "execution_count": 18,
          "metadata": {},
          "output_type": "execute_result"
        }
      ]
    },
    {
      "cell_type": "code",
      "metadata": {
        "colab": {
          "base_uri": "https://localhost:8080/"
        },
        "id": "xT57XkaK77yw",
        "outputId": "c0d11645-8f79-492a-e151-6a6b0d5c46bf"
      },
      "source": [
        "df['Ease of Online booking'] = df['Ease of Online booking'].astype('object')\n",
        "df['Ease of Online booking'].value_counts()"
      ],
      "execution_count": null,
      "outputs": [
        {
          "data": {
            "text/plain": [
              "3.0    18866\n",
              "2.0    18514\n",
              "4.0    15169\n",
              "1.0    13570\n",
              "5.0    10637\n",
              "0.0     3472\n",
              "Name: Ease of Online booking, dtype: int64"
            ]
          },
          "execution_count": 19,
          "metadata": {},
          "output_type": "execute_result"
        }
      ]
    },
    {
      "cell_type": "code",
      "metadata": {
        "colab": {
          "base_uri": "https://localhost:8080/"
        },
        "id": "KlUuT_dU77yw",
        "outputId": "90905599-f4d8-4b4e-cf98-a0ac715f1c31"
      },
      "source": [
        "df['Gate location'] = df['Gate location'].astype('object')\n",
        "df['Gate location'].value_counts()"
      ],
      "execution_count": null,
      "outputs": [
        {
          "data": {
            "text/plain": [
              "3.0    22082\n",
              "4.0    18936\n",
              "2.0    14961\n",
              "1.0    13645\n",
              "5.0    10603\n",
              "0.0        1\n",
              "Name: Gate location, dtype: int64"
            ]
          },
          "execution_count": 20,
          "metadata": {},
          "output_type": "execute_result"
        }
      ]
    },
    {
      "cell_type": "code",
      "metadata": {
        "colab": {
          "base_uri": "https://localhost:8080/"
        },
        "id": "YfwdwsQs77yx",
        "outputId": "9285b043-af21-497b-ec7a-738bece61fa1"
      },
      "source": [
        "df['Food and drink'] = df['Food and drink'].astype('object')\n",
        "df['Food and drink'].value_counts()"
      ],
      "execution_count": null,
      "outputs": [
        {
          "data": {
            "text/plain": [
              "4.0    18834\n",
              "5.0    17297\n",
              "3.0    17149\n",
              "2.0    16883\n",
              "1.0     9989\n",
              "0.0       76\n",
              "Name: Food and drink, dtype: int64"
            ]
          },
          "execution_count": 21,
          "metadata": {},
          "output_type": "execute_result"
        }
      ]
    },
    {
      "cell_type": "code",
      "metadata": {
        "colab": {
          "base_uri": "https://localhost:8080/"
        },
        "id": "NDZVG4dq77yy",
        "outputId": "c3700237-8ff4-49b9-f4e9-ed72bd03bfc9"
      },
      "source": [
        "df['Online boarding'] = df['Online boarding'].astype('object')\n",
        "df['Online boarding'].value_counts()"
      ],
      "execution_count": null,
      "outputs": [
        {
          "data": {
            "text/plain": [
              "4.0    23776\n",
              "3.0    16788\n",
              "5.0    15994\n",
              "2.0    13579\n",
              "1.0     8213\n",
              "0.0     1878\n",
              "Name: Online boarding, dtype: int64"
            ]
          },
          "execution_count": 22,
          "metadata": {},
          "output_type": "execute_result"
        }
      ]
    },
    {
      "cell_type": "code",
      "metadata": {
        "colab": {
          "base_uri": "https://localhost:8080/"
        },
        "id": "1djI8FrI77yy",
        "outputId": "b963af2b-dd19-4f26-fa3c-90ba7f3e1c2a"
      },
      "source": [
        "df['Seat comfort'] = df['Seat comfort'].astype('object')\n",
        "df['Seat comfort'].value_counts()"
      ],
      "execution_count": null,
      "outputs": [
        {
          "data": {
            "text/plain": [
              "4.0    24578\n",
              "5.0    20475\n",
              "3.0    14359\n",
              "2.0    11415\n",
              "1.0     9400\n",
              "0.0        1\n",
              "Name: Seat comfort, dtype: int64"
            ]
          },
          "execution_count": 23,
          "metadata": {},
          "output_type": "execute_result"
        }
      ]
    },
    {
      "cell_type": "code",
      "metadata": {
        "colab": {
          "base_uri": "https://localhost:8080/"
        },
        "id": "vNxXv_ct77yz",
        "outputId": "e5870fe5-92a1-4846-fb6a-4d9c8845736b"
      },
      "source": [
        "df['Inflight entertainment'] = df['Inflight entertainment'].astype('object')\n",
        "df['Inflight entertainment'].value_counts()"
      ],
      "execution_count": null,
      "outputs": [
        {
          "data": {
            "text/plain": [
              "4.0    22743\n",
              "5.0    19464\n",
              "3.0    14738\n",
              "2.0    13564\n",
              "1.0     9707\n",
              "0.0       12\n",
              "Name: Inflight entertainment, dtype: int64"
            ]
          },
          "execution_count": 24,
          "metadata": {},
          "output_type": "execute_result"
        }
      ]
    },
    {
      "cell_type": "code",
      "metadata": {
        "colab": {
          "base_uri": "https://localhost:8080/"
        },
        "id": "K0AXZvgY77y0",
        "outputId": "52bf822c-258c-4632-ba33-3d9927f752bc"
      },
      "source": [
        "df['On-board service'] = df['On-board service'].astype('object')\n",
        "df['On-board service'].value_counts()"
      ],
      "execution_count": null,
      "outputs": [
        {
          "data": {
            "text/plain": [
              "4.0    23814\n",
              "5.0    18262\n",
              "3.0    17639\n",
              "2.0    11329\n",
              "1.0     9182\n",
              "0.0        2\n",
              "Name: On-board service, dtype: int64"
            ]
          },
          "execution_count": 25,
          "metadata": {},
          "output_type": "execute_result"
        }
      ]
    },
    {
      "cell_type": "code",
      "metadata": {
        "colab": {
          "base_uri": "https://localhost:8080/"
        },
        "id": "YXGOONfK77y0",
        "outputId": "d5c4e2a5-ce6f-4e88-d0c5-e843ea5cb283"
      },
      "source": [
        "df['Leg room service'] = df['Leg room service'].astype('object')\n",
        "df['Leg room service'].value_counts()"
      ],
      "execution_count": null,
      "outputs": [
        {
          "data": {
            "text/plain": [
              "4.0    22269\n",
              "5.0    18901\n",
              "3.0    15627\n",
              "2.0    15068\n",
              "1.0     7994\n",
              "0.0      369\n",
              "Name: Leg room service, dtype: int64"
            ]
          },
          "execution_count": 26,
          "metadata": {},
          "output_type": "execute_result"
        }
      ]
    },
    {
      "cell_type": "code",
      "metadata": {
        "colab": {
          "base_uri": "https://localhost:8080/"
        },
        "id": "vUv78Agx77y0",
        "outputId": "0a463dbc-a193-4ade-8bd5-473ef041c85d"
      },
      "source": [
        "df['Baggage handling'] = df['Baggage handling'].astype('object')\n",
        "df['Baggage handling'].value_counts()"
      ],
      "execution_count": null,
      "outputs": [
        {
          "data": {
            "text/plain": [
              "4.0    28866\n",
              "5.0    20949\n",
              "3.0    15882\n",
              "2.0     8910\n",
              "1.0     5621\n",
              "Name: Baggage handling, dtype: int64"
            ]
          },
          "execution_count": 27,
          "metadata": {},
          "output_type": "execute_result"
        }
      ]
    },
    {
      "cell_type": "code",
      "metadata": {
        "colab": {
          "base_uri": "https://localhost:8080/"
        },
        "id": "RrwLhLNf77y1",
        "outputId": "5a84cdfe-88ea-459c-cb0b-cc9823627a3a"
      },
      "source": [
        "df['Checkin service'] = df['Checkin service'].astype('object')\n",
        "df['On-board service'].value_counts()"
      ],
      "execution_count": null,
      "outputs": [
        {
          "data": {
            "text/plain": [
              "4.0    23814\n",
              "5.0    18262\n",
              "3.0    17639\n",
              "2.0    11329\n",
              "1.0     9182\n",
              "0.0        2\n",
              "Name: On-board service, dtype: int64"
            ]
          },
          "execution_count": 28,
          "metadata": {},
          "output_type": "execute_result"
        }
      ]
    },
    {
      "cell_type": "code",
      "metadata": {
        "colab": {
          "base_uri": "https://localhost:8080/"
        },
        "id": "Uj0TtELr77y1",
        "outputId": "13b86e65-3fcc-446c-b021-d33e0b2d2d32"
      },
      "source": [
        "df['Inflight service'] = df['Inflight service'].astype('object')\n",
        "df['Inflight service'].value_counts()"
      ],
      "execution_count": null,
      "outputs": [
        {
          "data": {
            "text/plain": [
              "4.0    29330\n",
              "5.0    20922\n",
              "3.0    15597\n",
              "2.0     8873\n",
              "1.0     5504\n",
              "0.0        2\n",
              "Name: Inflight service, dtype: int64"
            ]
          },
          "execution_count": 29,
          "metadata": {},
          "output_type": "execute_result"
        }
      ]
    },
    {
      "cell_type": "code",
      "metadata": {
        "colab": {
          "base_uri": "https://localhost:8080/"
        },
        "id": "x3q6QXiX77y2",
        "outputId": "dd4a3ac7-36c6-4d4f-c4a8-ec0c1ec18061"
      },
      "source": [
        "df['Cleanliness'] = df['Cleanliness'].astype('object')\n",
        "df['Cleanliness'].value_counts()"
      ],
      "execution_count": null,
      "outputs": [
        {
          "data": {
            "text/plain": [
              "4.0    20995\n",
              "3.0    18940\n",
              "5.0    17561\n",
              "2.0    12403\n",
              "1.0    10318\n",
              "0.0       11\n",
              "Name: Cleanliness, dtype: int64"
            ]
          },
          "execution_count": 30,
          "metadata": {},
          "output_type": "execute_result"
        }
      ]
    },
    {
      "cell_type": "code",
      "metadata": {
        "colab": {
          "base_uri": "https://localhost:8080/"
        },
        "id": "z0jAwJ2577y3",
        "outputId": "0f4eba11-d2f2-4a84-a815-8d9a908fc2bc"
      },
      "source": [
        "# Datatypes of Features\n",
        "df.dtypes"
      ],
      "execution_count": null,
      "outputs": [
        {
          "data": {
            "text/plain": [
              "Unnamed: 0                             int64\n",
              "id                                     int64\n",
              "Gender                                object\n",
              "Customer Type                         object\n",
              "Age                                    int64\n",
              "Type of Travel                        object\n",
              "Class                                 object\n",
              "Flight Distance                      float64\n",
              "Inflight wifi service                 object\n",
              "Departure/Arrival time convenient     object\n",
              "Ease of Online booking                object\n",
              "Gate location                         object\n",
              "Food and drink                        object\n",
              "Online boarding                       object\n",
              "Seat comfort                          object\n",
              "Inflight entertainment                object\n",
              "On-board service                      object\n",
              "Leg room service                      object\n",
              "Baggage handling                      object\n",
              "Checkin service                       object\n",
              "Inflight service                      object\n",
              "Cleanliness                           object\n",
              "Departure Delay in Minutes           float64\n",
              "Arrival Delay in Minutes             float64\n",
              "satisfaction                          object\n",
              "dtype: object"
            ]
          },
          "execution_count": 31,
          "metadata": {},
          "output_type": "execute_result"
        }
      ]
    },
    {
      "cell_type": "code",
      "metadata": {
        "colab": {
          "base_uri": "https://localhost:8080/",
          "height": 205
        },
        "id": "RbYZSu1r77y4",
        "outputId": "c23b85a5-3808-485c-e5bf-44724cd1c77c"
      },
      "source": [
        "# Numeric Features\n",
        "Numerical_data = df.select_dtypes(include=['int64','float64'])\n",
        "Numerical_data.head()"
      ],
      "execution_count": null,
      "outputs": [
        {
          "data": {
            "text/html": [
              "<div>\n",
              "<style scoped>\n",
              "    .dataframe tbody tr th:only-of-type {\n",
              "        vertical-align: middle;\n",
              "    }\n",
              "\n",
              "    .dataframe tbody tr th {\n",
              "        vertical-align: top;\n",
              "    }\n",
              "\n",
              "    .dataframe thead th {\n",
              "        text-align: right;\n",
              "    }\n",
              "</style>\n",
              "<table border=\"1\" class=\"dataframe\">\n",
              "  <thead>\n",
              "    <tr style=\"text-align: right;\">\n",
              "      <th></th>\n",
              "      <th>Unnamed: 0</th>\n",
              "      <th>id</th>\n",
              "      <th>Age</th>\n",
              "      <th>Flight Distance</th>\n",
              "      <th>Departure Delay in Minutes</th>\n",
              "      <th>Arrival Delay in Minutes</th>\n",
              "    </tr>\n",
              "  </thead>\n",
              "  <tbody>\n",
              "    <tr>\n",
              "      <th>0</th>\n",
              "      <td>0</td>\n",
              "      <td>70172</td>\n",
              "      <td>13</td>\n",
              "      <td>460.0</td>\n",
              "      <td>25.0</td>\n",
              "      <td>18.0</td>\n",
              "    </tr>\n",
              "    <tr>\n",
              "      <th>1</th>\n",
              "      <td>1</td>\n",
              "      <td>5047</td>\n",
              "      <td>25</td>\n",
              "      <td>235.0</td>\n",
              "      <td>1.0</td>\n",
              "      <td>6.0</td>\n",
              "    </tr>\n",
              "    <tr>\n",
              "      <th>2</th>\n",
              "      <td>2</td>\n",
              "      <td>110028</td>\n",
              "      <td>26</td>\n",
              "      <td>1142.0</td>\n",
              "      <td>0.0</td>\n",
              "      <td>0.0</td>\n",
              "    </tr>\n",
              "    <tr>\n",
              "      <th>3</th>\n",
              "      <td>3</td>\n",
              "      <td>24026</td>\n",
              "      <td>25</td>\n",
              "      <td>562.0</td>\n",
              "      <td>11.0</td>\n",
              "      <td>9.0</td>\n",
              "    </tr>\n",
              "    <tr>\n",
              "      <th>4</th>\n",
              "      <td>4</td>\n",
              "      <td>119299</td>\n",
              "      <td>61</td>\n",
              "      <td>214.0</td>\n",
              "      <td>0.0</td>\n",
              "      <td>0.0</td>\n",
              "    </tr>\n",
              "  </tbody>\n",
              "</table>\n",
              "</div>"
            ],
            "text/plain": [
              "   Unnamed: 0      id  ...  Departure Delay in Minutes  Arrival Delay in Minutes\n",
              "0           0   70172  ...                        25.0                      18.0\n",
              "1           1    5047  ...                         1.0                       6.0\n",
              "2           2  110028  ...                         0.0                       0.0\n",
              "3           3   24026  ...                        11.0                       9.0\n",
              "4           4  119299  ...                         0.0                       0.0\n",
              "\n",
              "[5 rows x 6 columns]"
            ]
          },
          "execution_count": 32,
          "metadata": {},
          "output_type": "execute_result"
        }
      ]
    },
    {
      "cell_type": "code",
      "metadata": {
        "colab": {
          "base_uri": "https://localhost:8080/",
          "height": 607
        },
        "id": "qjZE4_bn77y4",
        "outputId": "bfc665af-efaf-4e8f-8226-c6746f6c246e"
      },
      "source": [
        "# Histplot of Numeric data\n",
        "Numerical_data.hist(figsize=(10,10))\n",
        "plt.show()"
      ],
      "execution_count": null,
      "outputs": [
        {
          "data": {
            "image/png": "[encoded data removed]",
            "text/plain": [
              "<Figure size 720x720 with 6 Axes>"
            ]
          },
          "metadata": {},
          "output_type": "display_data"
        }
      ]
    },
    {
      "cell_type": "code",
      "metadata": {
        "colab": {
          "base_uri": "https://localhost:8080/",
          "height": 297
        },
        "id": "2e2HkHrC77y5",
        "outputId": "fe3ba5a4-0985-4e3c-8537-fe6dc33926f1"
      },
      "source": [
        "# Arrival Delay vs Departure Delay\n",
        "sns.scatterplot(data = Numerical_data, x = 'Departure Delay in Minutes', y = 'Arrival Delay in Minutes', color='green')"
      ],
      "execution_count": null,
      "outputs": [
        {
          "data": {
            "text/plain": [
              "<matplotlib.axes._subplots.AxesSubplot at 0x7f9432b0b610>"
            ]
          },
          "execution_count": 34,
          "metadata": {},
          "output_type": "execute_result"
        },
        {
          "data": {
            "image/png": "[encoded data removed]",
            "text/plain": [
              "<Figure size 432x288 with 1 Axes>"
            ]
          },
          "metadata": {},
          "output_type": "display_data"
        }
      ]
    },
    {
      "cell_type": "code",
      "metadata": {
        "id": "83A3mCsT77y5"
      },
      "source": [
        "# Drop Unwanted Columns\n",
        "Numerical_data = Numerical_data.drop(columns=['Unnamed: 0','id'])"
      ],
      "execution_count": null,
      "outputs": []
    },
    {
      "cell_type": "code",
      "metadata": {
        "colab": {
          "base_uri": "https://localhost:8080/",
          "height": 283
        },
        "id": "q34pSyIS77y5",
        "outputId": "c8d1cb45-27c9-40ac-967b-e28dd16595e9"
      },
      "source": [
        "# Using boxcox transformation\n",
        "from scipy.stats import boxcox\n",
        "Numerical_data['Flight Distance'],_ = boxcox(Numerical_data['Flight Distance'])\n",
        "Numerical_data['Flight Distance'].hist()"
      ],
      "execution_count": null,
      "outputs": [
        {
          "data": {
            "text/plain": [
              "<matplotlib.axes._subplots.AxesSubplot at 0x7f9432c01e90>"
            ]
          },
          "execution_count": 36,
          "metadata": {},
          "output_type": "execute_result"
        },
        {
          "data": {
            "image/png": "[encoded data removed]",
            "text/plain": [
              "<Figure size 432x288 with 1 Axes>"
            ]
          },
          "metadata": {},
          "output_type": "display_data"
        }
      ]
    },
    {
      "cell_type": "code",
      "metadata": {
        "colab": {
          "base_uri": "https://localhost:8080/",
          "height": 205
        },
        "id": "reS5Utri77y6",
        "outputId": "ba2548df-eaf9-49d4-f19e-33e7bf146eee"
      },
      "source": [
        "Numerical_data.head()"
      ],
      "execution_count": null,
      "outputs": [
        {
          "data": {
            "text/html": [
              "<div>\n",
              "<style scoped>\n",
              "    .dataframe tbody tr th:only-of-type {\n",
              "        vertical-align: middle;\n",
              "    }\n",
              "\n",
              "    .dataframe tbody tr th {\n",
              "        vertical-align: top;\n",
              "    }\n",
              "\n",
              "    .dataframe thead th {\n",
              "        text-align: right;\n",
              "    }\n",
              "</style>\n",
              "<table border=\"1\" class=\"dataframe\">\n",
              "  <thead>\n",
              "    <tr style=\"text-align: right;\">\n",
              "      <th></th>\n",
              "      <th>Age</th>\n",
              "      <th>Flight Distance</th>\n",
              "      <th>Departure Delay in Minutes</th>\n",
              "      <th>Arrival Delay in Minutes</th>\n",
              "    </tr>\n",
              "  </thead>\n",
              "  <tbody>\n",
              "    <tr>\n",
              "      <th>0</th>\n",
              "      <td>13</td>\n",
              "      <td>8.656820</td>\n",
              "      <td>25.0</td>\n",
              "      <td>18.0</td>\n",
              "    </tr>\n",
              "    <tr>\n",
              "      <th>1</th>\n",
              "      <td>25</td>\n",
              "      <td>7.409880</td>\n",
              "      <td>1.0</td>\n",
              "      <td>6.0</td>\n",
              "    </tr>\n",
              "    <tr>\n",
              "      <th>2</th>\n",
              "      <td>26</td>\n",
              "      <td>10.493935</td>\n",
              "      <td>0.0</td>\n",
              "      <td>0.0</td>\n",
              "    </tr>\n",
              "    <tr>\n",
              "      <th>3</th>\n",
              "      <td>25</td>\n",
              "      <td>9.046276</td>\n",
              "      <td>11.0</td>\n",
              "      <td>9.0</td>\n",
              "    </tr>\n",
              "    <tr>\n",
              "      <th>4</th>\n",
              "      <td>61</td>\n",
              "      <td>7.243077</td>\n",
              "      <td>0.0</td>\n",
              "      <td>0.0</td>\n",
              "    </tr>\n",
              "  </tbody>\n",
              "</table>\n",
              "</div>"
            ],
            "text/plain": [
              "   Age  Flight Distance  Departure Delay in Minutes  Arrival Delay in Minutes\n",
              "0   13         8.656820                        25.0                      18.0\n",
              "1   25         7.409880                         1.0                       6.0\n",
              "2   26        10.493935                         0.0                       0.0\n",
              "3   25         9.046276                        11.0                       9.0\n",
              "4   61         7.243077                         0.0                       0.0"
            ]
          },
          "execution_count": 37,
          "metadata": {},
          "output_type": "execute_result"
        }
      ]
    },
    {
      "cell_type": "markdown",
      "metadata": {
        "id": "j6shrjCq77y7"
      },
      "source": [
        "Note: We cannot apply boxcox on Departure Delay and Arrival Delay because they have some 0 values."
      ]
    },
    {
      "cell_type": "code",
      "metadata": {
        "colab": {
          "base_uri": "https://localhost:8080/",
          "height": 346
        },
        "id": "e97MCqhD77y8",
        "outputId": "5aed7cc1-4870-446b-9a1c-5db4288825a6"
      },
      "source": [
        "# Categorical Features\n",
        "Categorical_data = df.select_dtypes(include=['object'])\n",
        "Categorical_data.head()"
      ],
      "execution_count": null,
      "outputs": [
        {
          "data": {
            "text/html": [
              "<div>\n",
              "<style scoped>\n",
              "    .dataframe tbody tr th:only-of-type {\n",
              "        vertical-align: middle;\n",
              "    }\n",
              "\n",
              "    .dataframe tbody tr th {\n",
              "        vertical-align: top;\n",
              "    }\n",
              "\n",
              "    .dataframe thead th {\n",
              "        text-align: right;\n",
              "    }\n",
              "</style>\n",
              "<table border=\"1\" class=\"dataframe\">\n",
              "  <thead>\n",
              "    <tr style=\"text-align: right;\">\n",
              "      <th></th>\n",
              "      <th>Gender</th>\n",
              "      <th>Customer Type</th>\n",
              "      <th>Type of Travel</th>\n",
              "      <th>Class</th>\n",
              "      <th>Inflight wifi service</th>\n",
              "      <th>Departure/Arrival time convenient</th>\n",
              "      <th>Ease of Online booking</th>\n",
              "      <th>Gate location</th>\n",
              "      <th>Food and drink</th>\n",
              "      <th>Online boarding</th>\n",
              "      <th>Seat comfort</th>\n",
              "      <th>Inflight entertainment</th>\n",
              "      <th>On-board service</th>\n",
              "      <th>Leg room service</th>\n",
              "      <th>Baggage handling</th>\n",
              "      <th>Checkin service</th>\n",
              "      <th>Inflight service</th>\n",
              "      <th>Cleanliness</th>\n",
              "      <th>satisfaction</th>\n",
              "    </tr>\n",
              "  </thead>\n",
              "  <tbody>\n",
              "    <tr>\n",
              "      <th>0</th>\n",
              "      <td>Male</td>\n",
              "      <td>Loyal Customer</td>\n",
              "      <td>Personal Travel</td>\n",
              "      <td>Eco Plus</td>\n",
              "      <td>3</td>\n",
              "      <td>4</td>\n",
              "      <td>3</td>\n",
              "      <td>1</td>\n",
              "      <td>5</td>\n",
              "      <td>3</td>\n",
              "      <td>5</td>\n",
              "      <td>5</td>\n",
              "      <td>4</td>\n",
              "      <td>3</td>\n",
              "      <td>4</td>\n",
              "      <td>4</td>\n",
              "      <td>5</td>\n",
              "      <td>5</td>\n",
              "      <td>neutral or dissatisfied</td>\n",
              "    </tr>\n",
              "    <tr>\n",
              "      <th>1</th>\n",
              "      <td>Male</td>\n",
              "      <td>disloyal Customer</td>\n",
              "      <td>Business travel</td>\n",
              "      <td>Business</td>\n",
              "      <td>3</td>\n",
              "      <td>2</td>\n",
              "      <td>3</td>\n",
              "      <td>3</td>\n",
              "      <td>1</td>\n",
              "      <td>3</td>\n",
              "      <td>1</td>\n",
              "      <td>1</td>\n",
              "      <td>1</td>\n",
              "      <td>5</td>\n",
              "      <td>3</td>\n",
              "      <td>1</td>\n",
              "      <td>4</td>\n",
              "      <td>1</td>\n",
              "      <td>neutral or dissatisfied</td>\n",
              "    </tr>\n",
              "    <tr>\n",
              "      <th>2</th>\n",
              "      <td>Female</td>\n",
              "      <td>Loyal Customer</td>\n",
              "      <td>Business travel</td>\n",
              "      <td>Business</td>\n",
              "      <td>2</td>\n",
              "      <td>2</td>\n",
              "      <td>2</td>\n",
              "      <td>2</td>\n",
              "      <td>5</td>\n",
              "      <td>5</td>\n",
              "      <td>5</td>\n",
              "      <td>5</td>\n",
              "      <td>4</td>\n",
              "      <td>3</td>\n",
              "      <td>4</td>\n",
              "      <td>4</td>\n",
              "      <td>4</td>\n",
              "      <td>5</td>\n",
              "      <td>satisfied</td>\n",
              "    </tr>\n",
              "    <tr>\n",
              "      <th>3</th>\n",
              "      <td>Female</td>\n",
              "      <td>Loyal Customer</td>\n",
              "      <td>Business travel</td>\n",
              "      <td>Business</td>\n",
              "      <td>2</td>\n",
              "      <td>5</td>\n",
              "      <td>5</td>\n",
              "      <td>5</td>\n",
              "      <td>2</td>\n",
              "      <td>2</td>\n",
              "      <td>2</td>\n",
              "      <td>2</td>\n",
              "      <td>2</td>\n",
              "      <td>5</td>\n",
              "      <td>3</td>\n",
              "      <td>1</td>\n",
              "      <td>4</td>\n",
              "      <td>2</td>\n",
              "      <td>neutral or dissatisfied</td>\n",
              "    </tr>\n",
              "    <tr>\n",
              "      <th>4</th>\n",
              "      <td>Male</td>\n",
              "      <td>Loyal Customer</td>\n",
              "      <td>Business travel</td>\n",
              "      <td>Business</td>\n",
              "      <td>3</td>\n",
              "      <td>3</td>\n",
              "      <td>3</td>\n",
              "      <td>3</td>\n",
              "      <td>4</td>\n",
              "      <td>5</td>\n",
              "      <td>5</td>\n",
              "      <td>3</td>\n",
              "      <td>3</td>\n",
              "      <td>4</td>\n",
              "      <td>4</td>\n",
              "      <td>3</td>\n",
              "      <td>3</td>\n",
              "      <td>3</td>\n",
              "      <td>satisfied</td>\n",
              "    </tr>\n",
              "  </tbody>\n",
              "</table>\n",
              "</div>"
            ],
            "text/plain": [
              "   Gender      Customer Type  ... Cleanliness             satisfaction\n",
              "0    Male     Loyal Customer  ...           5  neutral or dissatisfied\n",
              "1    Male  disloyal Customer  ...           1  neutral or dissatisfied\n",
              "2  Female     Loyal Customer  ...           5                satisfied\n",
              "3  Female     Loyal Customer  ...           2  neutral or dissatisfied\n",
              "4    Male     Loyal Customer  ...           3                satisfied\n",
              "\n",
              "[5 rows x 19 columns]"
            ]
          },
          "execution_count": 38,
          "metadata": {},
          "output_type": "execute_result"
        }
      ]
    },
    {
      "cell_type": "code",
      "metadata": {
        "colab": {
          "base_uri": "https://localhost:8080/",
          "height": 143
        },
        "id": "QDxowLA077y9",
        "outputId": "b86ee6cb-db37-44b5-868d-a05ea4b11530"
      },
      "source": [
        "# Gender vs Type of Travel Plot\n",
        "pd.crosstab(index=Categorical_data['Gender'], columns=Categorical_data['Customer Type'])"
      ],
      "execution_count": null,
      "outputs": [
        {
          "data": {
            "text/html": [
              "<div>\n",
              "<style scoped>\n",
              "    .dataframe tbody tr th:only-of-type {\n",
              "        vertical-align: middle;\n",
              "    }\n",
              "\n",
              "    .dataframe tbody tr th {\n",
              "        vertical-align: top;\n",
              "    }\n",
              "\n",
              "    .dataframe thead th {\n",
              "        text-align: right;\n",
              "    }\n",
              "</style>\n",
              "<table border=\"1\" class=\"dataframe\">\n",
              "  <thead>\n",
              "    <tr style=\"text-align: right;\">\n",
              "      <th>Customer Type</th>\n",
              "      <th>Loyal Customer</th>\n",
              "      <th>disloyal Customer</th>\n",
              "    </tr>\n",
              "    <tr>\n",
              "      <th>Gender</th>\n",
              "      <th></th>\n",
              "      <th></th>\n",
              "    </tr>\n",
              "  </thead>\n",
              "  <tbody>\n",
              "    <tr>\n",
              "      <th>Female</th>\n",
              "      <td>32785</td>\n",
              "      <td>8022</td>\n",
              "    </tr>\n",
              "    <tr>\n",
              "      <th>Male</th>\n",
              "      <td>32675</td>\n",
              "      <td>6746</td>\n",
              "    </tr>\n",
              "  </tbody>\n",
              "</table>\n",
              "</div>"
            ],
            "text/plain": [
              "Customer Type  Loyal Customer  disloyal Customer\n",
              "Gender                                          \n",
              "Female                  32785               8022\n",
              "Male                    32675               6746"
            ]
          },
          "execution_count": 39,
          "metadata": {},
          "output_type": "execute_result"
        }
      ]
    },
    {
      "cell_type": "code",
      "metadata": {
        "colab": {
          "base_uri": "https://localhost:8080/",
          "height": 175
        },
        "id": "XmuFaYpf77y9",
        "outputId": "6792d38f-7df5-4ad6-bace-fdea166c079f"
      },
      "source": [
        "# Class vs Type of Travel\n",
        "pd.crosstab(Categorical_data['Class'], Categorical_data['Type of Travel'] )"
      ],
      "execution_count": null,
      "outputs": [
        {
          "data": {
            "text/html": [
              "<div>\n",
              "<style scoped>\n",
              "    .dataframe tbody tr th:only-of-type {\n",
              "        vertical-align: middle;\n",
              "    }\n",
              "\n",
              "    .dataframe tbody tr th {\n",
              "        vertical-align: top;\n",
              "    }\n",
              "\n",
              "    .dataframe thead th {\n",
              "        text-align: right;\n",
              "    }\n",
              "</style>\n",
              "<table border=\"1\" class=\"dataframe\">\n",
              "  <thead>\n",
              "    <tr style=\"text-align: right;\">\n",
              "      <th>Type of Travel</th>\n",
              "      <th>Business travel</th>\n",
              "      <th>Personal Travel</th>\n",
              "    </tr>\n",
              "    <tr>\n",
              "      <th>Class</th>\n",
              "      <th></th>\n",
              "      <th></th>\n",
              "    </tr>\n",
              "  </thead>\n",
              "  <tbody>\n",
              "    <tr>\n",
              "      <th>Business</th>\n",
              "      <td>36710</td>\n",
              "      <td>1678</td>\n",
              "    </tr>\n",
              "    <tr>\n",
              "      <th>Eco</th>\n",
              "      <td>15635</td>\n",
              "      <td>20395</td>\n",
              "    </tr>\n",
              "    <tr>\n",
              "      <th>Eco Plus</th>\n",
              "      <td>3050</td>\n",
              "      <td>2760</td>\n",
              "    </tr>\n",
              "  </tbody>\n",
              "</table>\n",
              "</div>"
            ],
            "text/plain": [
              "Type of Travel  Business travel  Personal Travel\n",
              "Class                                           \n",
              "Business                  36710             1678\n",
              "Eco                       15635            20395\n",
              "Eco Plus                   3050             2760"
            ]
          },
          "execution_count": 40,
          "metadata": {},
          "output_type": "execute_result"
        }
      ]
    },
    {
      "cell_type": "code",
      "metadata": {
        "colab": {
          "base_uri": "https://localhost:8080/",
          "height": 175
        },
        "id": "GLZE_0fc77y-",
        "outputId": "8d1fccfe-040b-47f0-ea05-67d7feaaf3da"
      },
      "source": [
        "# Class vs Satisfication\n",
        "pd.crosstab(Categorical_data['Class'], Categorical_data['satisfaction'])"
      ],
      "execution_count": null,
      "outputs": [
        {
          "data": {
            "text/html": [
              "<div>\n",
              "<style scoped>\n",
              "    .dataframe tbody tr th:only-of-type {\n",
              "        vertical-align: middle;\n",
              "    }\n",
              "\n",
              "    .dataframe tbody tr th {\n",
              "        vertical-align: top;\n",
              "    }\n",
              "\n",
              "    .dataframe thead th {\n",
              "        text-align: right;\n",
              "    }\n",
              "</style>\n",
              "<table border=\"1\" class=\"dataframe\">\n",
              "  <thead>\n",
              "    <tr style=\"text-align: right;\">\n",
              "      <th>satisfaction</th>\n",
              "      <th>neutral or dissatisfied</th>\n",
              "      <th>satisfied</th>\n",
              "    </tr>\n",
              "    <tr>\n",
              "      <th>Class</th>\n",
              "      <th></th>\n",
              "      <th></th>\n",
              "    </tr>\n",
              "  </thead>\n",
              "  <tbody>\n",
              "    <tr>\n",
              "      <th>Business</th>\n",
              "      <td>11767</td>\n",
              "      <td>26621</td>\n",
              "    </tr>\n",
              "    <tr>\n",
              "      <th>Eco</th>\n",
              "      <td>29257</td>\n",
              "      <td>6773</td>\n",
              "    </tr>\n",
              "    <tr>\n",
              "      <th>Eco Plus</th>\n",
              "      <td>4370</td>\n",
              "      <td>1440</td>\n",
              "    </tr>\n",
              "  </tbody>\n",
              "</table>\n",
              "</div>"
            ],
            "text/plain": [
              "satisfaction  neutral or dissatisfied  satisfied\n",
              "Class                                           \n",
              "Business                        11767      26621\n",
              "Eco                             29257       6773\n",
              "Eco Plus                         4370       1440"
            ]
          },
          "execution_count": 41,
          "metadata": {},
          "output_type": "execute_result"
        }
      ]
    },
    {
      "cell_type": "markdown",
      "metadata": {
        "id": "fblQn9GK77y_"
      },
      "source": [
        "# Data Preparation"
      ]
    },
    {
      "cell_type": "code",
      "metadata": {
        "id": "GRXQg_0d77y_"
      },
      "source": [
        "# Label Encoding for Nominal Features\n",
        "Categorical_data['Class'] = Categorical_data['Class'].map({'Business':2, 'Eco':0, 'Eco Plus':1})\n",
        "Categorical_data['satisfaction'] = Categorical_data['satisfaction'].map({'neutral or dissatisfied':1, 'satisfied':0})"
      ],
      "execution_count": null,
      "outputs": []
    },
    {
      "cell_type": "code",
      "metadata": {
        "colab": {
          "base_uri": "https://localhost:8080/"
        },
        "id": "ZyqYkPPb77y_",
        "outputId": "5d2753b6-37d6-425b-a3e7-99667218435d"
      },
      "source": [
        "df_encode = Categorical_data.loc[:,['Gender','Customer Type','Type of Travel']]\n",
        "df_encode.shape"
      ],
      "execution_count": null,
      "outputs": [
        {
          "data": {
            "text/plain": [
              "(80228, 3)"
            ]
          },
          "execution_count": 43,
          "metadata": {},
          "output_type": "execute_result"
        }
      ]
    },
    {
      "cell_type": "code",
      "metadata": {
        "colab": {
          "base_uri": "https://localhost:8080/"
        },
        "id": "ErY41ekl77zA",
        "outputId": "164fd614-8cbd-4f7d-c944-5517accee47e"
      },
      "source": [
        "# One hot encoding / Dummies\n",
        "from sklearn.preprocessing import OneHotEncoder\n",
        "encoder = OneHotEncoder(drop='first', sparse=False)\n",
        "df_encode = pd.DataFrame(encoder.fit_transform(df_encode), columns=encoder.get_feature_names(df_encode.columns))\n",
        "df_encode.head()"
      ],
      "execution_count": null,
      "outputs": [
        {
          "data": {
            "text/html": [
              "<div>\n",
              "<style scoped>\n",
              "    .dataframe tbody tr th:only-of-type {\n",
              "        vertical-align: middle;\n",
              "    }\n",
              "\n",
              "    .dataframe tbody tr th {\n",
              "        vertical-align: top;\n",
              "    }\n",
              "\n",
              "    .dataframe thead th {\n",
              "        text-align: right;\n",
              "    }\n",
              "</style>\n",
              "<table border=\"1\" class=\"dataframe\">\n",
              "  <thead>\n",
              "    <tr style=\"text-align: right;\">\n",
              "      <th></th>\n",
              "      <th>Gender_Male</th>\n",
              "      <th>Customer Type_disloyal Customer</th>\n",
              "      <th>Type of Travel_Personal Travel</th>\n",
              "    </tr>\n",
              "  </thead>\n",
              "  <tbody>\n",
              "    <tr>\n",
              "      <th>0</th>\n",
              "      <td>1.0</td>\n",
              "      <td>0.0</td>\n",
              "      <td>1.0</td>\n",
              "    </tr>\n",
              "    <tr>\n",
              "      <th>1</th>\n",
              "      <td>1.0</td>\n",
              "      <td>1.0</td>\n",
              "      <td>0.0</td>\n",
              "    </tr>\n",
              "    <tr>\n",
              "      <th>2</th>\n",
              "      <td>0.0</td>\n",
              "      <td>0.0</td>\n",
              "      <td>0.0</td>\n",
              "    </tr>\n",
              "    <tr>\n",
              "      <th>3</th>\n",
              "      <td>0.0</td>\n",
              "      <td>0.0</td>\n",
              "      <td>0.0</td>\n",
              "    </tr>\n",
              "    <tr>\n",
              "      <th>4</th>\n",
              "      <td>1.0</td>\n",
              "      <td>0.0</td>\n",
              "      <td>0.0</td>\n",
              "    </tr>\n",
              "  </tbody>\n",
              "</table>\n",
              "</div>"
            ],
            "text/plain": [
              "   Gender_Male  Customer Type_disloyal Customer  Type of Travel_Personal Travel\n",
              "0          1.0                              0.0                             1.0\n",
              "1          1.0                              1.0                             0.0\n",
              "2          0.0                              0.0                             0.0\n",
              "3          0.0                              0.0                             0.0\n",
              "4          1.0                              0.0                             0.0"
            ]
          },
          "execution_count": 44,
          "metadata": {},
          "output_type": "execute_result"
        }
      ]
    },
    {
      "cell_type": "code",
      "metadata": {
        "colab": {
          "base_uri": "https://localhost:8080/"
        },
        "id": "juIW4ana77zA",
        "outputId": "8b0a58d6-70ed-4914-cb2e-03e117ac0da9"
      },
      "source": [
        "df_encode.isnull().sum()"
      ],
      "execution_count": null,
      "outputs": [
        {
          "data": {
            "text/plain": [
              "Gender_Male                        0\n",
              "Customer Type_disloyal Customer    0\n",
              "Type of Travel_Personal Travel     0\n",
              "dtype: int64"
            ]
          },
          "execution_count": 45,
          "metadata": {},
          "output_type": "execute_result"
        }
      ]
    },
    {
      "cell_type": "code",
      "metadata": {
        "colab": {
          "base_uri": "https://localhost:8080/"
        },
        "id": "n_TjC_xY77zA",
        "outputId": "77dca0e1-1511-49b9-ccd2-70151ccbb408"
      },
      "source": [
        "Categorical_data = pd.concat([Categorical_data, df_encode], axis=1)\n",
        "Categorical_data.shape"
      ],
      "execution_count": null,
      "outputs": [
        {
          "data": {
            "text/plain": [
              "(80466, 22)"
            ]
          },
          "execution_count": 46,
          "metadata": {},
          "output_type": "execute_result"
        }
      ]
    },
    {
      "cell_type": "code",
      "metadata": {
        "colab": {
          "base_uri": "https://localhost:8080/"
        },
        "id": "3iDRgxUW77zE",
        "outputId": "158e6421-ad7b-4055-d44f-7da9a2532ec4"
      },
      "source": [
        "# Standardization of Numeric values\n",
        "from sklearn.preprocessing import StandardScaler\n",
        "df_num = pd.DataFrame(StandardScaler().fit_transform(Numerical_data), columns = Numerical_data.columns)\n",
        "df_num.head()"
      ],
      "execution_count": null,
      "outputs": [
        {
          "data": {
            "text/html": [
              "<div>\n",
              "<style scoped>\n",
              "    .dataframe tbody tr th:only-of-type {\n",
              "        vertical-align: middle;\n",
              "    }\n",
              "\n",
              "    .dataframe tbody tr th {\n",
              "        vertical-align: top;\n",
              "    }\n",
              "\n",
              "    .dataframe thead th {\n",
              "        text-align: right;\n",
              "    }\n",
              "</style>\n",
              "<table border=\"1\" class=\"dataframe\">\n",
              "  <thead>\n",
              "    <tr style=\"text-align: right;\">\n",
              "      <th></th>\n",
              "      <th>Age</th>\n",
              "      <th>Flight Distance</th>\n",
              "      <th>Departure Delay in Minutes</th>\n",
              "      <th>Arrival Delay in Minutes</th>\n",
              "    </tr>\n",
              "  </thead>\n",
              "  <tbody>\n",
              "    <tr>\n",
              "      <th>0</th>\n",
              "      <td>-1.746215</td>\n",
              "      <td>-0.658007</td>\n",
              "      <td>0.269538</td>\n",
              "      <td>0.073872</td>\n",
              "    </tr>\n",
              "    <tr>\n",
              "      <th>1</th>\n",
              "      <td>-0.951344</td>\n",
              "      <td>-1.327129</td>\n",
              "      <td>-0.362146</td>\n",
              "      <td>-0.237570</td>\n",
              "    </tr>\n",
              "    <tr>\n",
              "      <th>2</th>\n",
              "      <td>-0.885105</td>\n",
              "      <td>0.327809</td>\n",
              "      <td>-0.388466</td>\n",
              "      <td>-0.393291</td>\n",
              "    </tr>\n",
              "    <tr>\n",
              "      <th>3</th>\n",
              "      <td>-0.951344</td>\n",
              "      <td>-0.449021</td>\n",
              "      <td>-0.098944</td>\n",
              "      <td>-0.159709</td>\n",
              "    </tr>\n",
              "    <tr>\n",
              "      <th>4</th>\n",
              "      <td>1.433268</td>\n",
              "      <td>-1.416637</td>\n",
              "      <td>-0.388466</td>\n",
              "      <td>-0.393291</td>\n",
              "    </tr>\n",
              "  </tbody>\n",
              "</table>\n",
              "</div>"
            ],
            "text/plain": [
              "        Age  ...  Arrival Delay in Minutes\n",
              "0 -1.746215  ...                  0.073872\n",
              "1 -0.951344  ...                 -0.237570\n",
              "2 -0.885105  ...                 -0.393291\n",
              "3 -0.951344  ...                 -0.159709\n",
              "4  1.433268  ...                 -0.393291\n",
              "\n",
              "[5 rows x 4 columns]"
            ]
          },
          "execution_count": 47,
          "metadata": {},
          "output_type": "execute_result"
        }
      ]
    },
    {
      "cell_type": "code",
      "metadata": {
        "colab": {
          "base_uri": "https://localhost:8080/"
        },
        "id": "GrfXpDYj77zF",
        "outputId": "b3c395b6-bb14-4256-a20c-6b2758012fce"
      },
      "source": [
        "df_num.shape"
      ],
      "execution_count": null,
      "outputs": [
        {
          "data": {
            "text/plain": [
              "(80228, 4)"
            ]
          },
          "execution_count": 48,
          "metadata": {},
          "output_type": "execute_result"
        }
      ]
    },
    {
      "cell_type": "code",
      "metadata": {
        "colab": {
          "base_uri": "https://localhost:8080/"
        },
        "id": "o3MG9wkR77zF",
        "outputId": "c33472e3-2f9b-49be-da8a-8d1b28d7832c"
      },
      "source": [
        "dF = pd.concat([df_num, Categorical_data], axis=1)\n",
        "dF.head()"
      ],
      "execution_count": null,
      "outputs": [
        {
          "data": {
            "text/html": [
              "<div>\n",
              "<style scoped>\n",
              "    .dataframe tbody tr th:only-of-type {\n",
              "        vertical-align: middle;\n",
              "    }\n",
              "\n",
              "    .dataframe tbody tr th {\n",
              "        vertical-align: top;\n",
              "    }\n",
              "\n",
              "    .dataframe thead th {\n",
              "        text-align: right;\n",
              "    }\n",
              "</style>\n",
              "<table border=\"1\" class=\"dataframe\">\n",
              "  <thead>\n",
              "    <tr style=\"text-align: right;\">\n",
              "      <th></th>\n",
              "      <th>Age</th>\n",
              "      <th>Flight Distance</th>\n",
              "      <th>Departure Delay in Minutes</th>\n",
              "      <th>Arrival Delay in Minutes</th>\n",
              "      <th>Gender</th>\n",
              "      <th>Customer Type</th>\n",
              "      <th>Type of Travel</th>\n",
              "      <th>Class</th>\n",
              "      <th>Inflight wifi service</th>\n",
              "      <th>Departure/Arrival time convenient</th>\n",
              "      <th>Ease of Online booking</th>\n",
              "      <th>Gate location</th>\n",
              "      <th>Food and drink</th>\n",
              "      <th>Online boarding</th>\n",
              "      <th>Seat comfort</th>\n",
              "      <th>Inflight entertainment</th>\n",
              "      <th>On-board service</th>\n",
              "      <th>Leg room service</th>\n",
              "      <th>Baggage handling</th>\n",
              "      <th>Checkin service</th>\n",
              "      <th>Inflight service</th>\n",
              "      <th>Cleanliness</th>\n",
              "      <th>satisfaction</th>\n",
              "      <th>Gender_Male</th>\n",
              "      <th>Customer Type_disloyal Customer</th>\n",
              "      <th>Type of Travel_Personal Travel</th>\n",
              "    </tr>\n",
              "  </thead>\n",
              "  <tbody>\n",
              "    <tr>\n",
              "      <th>0</th>\n",
              "      <td>-1.746215</td>\n",
              "      <td>-0.658007</td>\n",
              "      <td>0.269538</td>\n",
              "      <td>0.073872</td>\n",
              "      <td>Male</td>\n",
              "      <td>Loyal Customer</td>\n",
              "      <td>Personal Travel</td>\n",
              "      <td>1.0</td>\n",
              "      <td>3</td>\n",
              "      <td>4</td>\n",
              "      <td>3</td>\n",
              "      <td>1</td>\n",
              "      <td>5</td>\n",
              "      <td>3</td>\n",
              "      <td>5</td>\n",
              "      <td>5</td>\n",
              "      <td>4</td>\n",
              "      <td>3</td>\n",
              "      <td>4</td>\n",
              "      <td>4</td>\n",
              "      <td>5</td>\n",
              "      <td>5</td>\n",
              "      <td>1.0</td>\n",
              "      <td>1.0</td>\n",
              "      <td>0.0</td>\n",
              "      <td>1.0</td>\n",
              "    </tr>\n",
              "    <tr>\n",
              "      <th>1</th>\n",
              "      <td>-0.951344</td>\n",
              "      <td>-1.327129</td>\n",
              "      <td>-0.362146</td>\n",
              "      <td>-0.237570</td>\n",
              "      <td>Male</td>\n",
              "      <td>disloyal Customer</td>\n",
              "      <td>Business travel</td>\n",
              "      <td>2.0</td>\n",
              "      <td>3</td>\n",
              "      <td>2</td>\n",
              "      <td>3</td>\n",
              "      <td>3</td>\n",
              "      <td>1</td>\n",
              "      <td>3</td>\n",
              "      <td>1</td>\n",
              "      <td>1</td>\n",
              "      <td>1</td>\n",
              "      <td>5</td>\n",
              "      <td>3</td>\n",
              "      <td>1</td>\n",
              "      <td>4</td>\n",
              "      <td>1</td>\n",
              "      <td>1.0</td>\n",
              "      <td>1.0</td>\n",
              "      <td>1.0</td>\n",
              "      <td>0.0</td>\n",
              "    </tr>\n",
              "    <tr>\n",
              "      <th>2</th>\n",
              "      <td>-0.885105</td>\n",
              "      <td>0.327809</td>\n",
              "      <td>-0.388466</td>\n",
              "      <td>-0.393291</td>\n",
              "      <td>Female</td>\n",
              "      <td>Loyal Customer</td>\n",
              "      <td>Business travel</td>\n",
              "      <td>2.0</td>\n",
              "      <td>2</td>\n",
              "      <td>2</td>\n",
              "      <td>2</td>\n",
              "      <td>2</td>\n",
              "      <td>5</td>\n",
              "      <td>5</td>\n",
              "      <td>5</td>\n",
              "      <td>5</td>\n",
              "      <td>4</td>\n",
              "      <td>3</td>\n",
              "      <td>4</td>\n",
              "      <td>4</td>\n",
              "      <td>4</td>\n",
              "      <td>5</td>\n",
              "      <td>0.0</td>\n",
              "      <td>0.0</td>\n",
              "      <td>0.0</td>\n",
              "      <td>0.0</td>\n",
              "    </tr>\n",
              "    <tr>\n",
              "      <th>3</th>\n",
              "      <td>-0.951344</td>\n",
              "      <td>-0.449021</td>\n",
              "      <td>-0.098944</td>\n",
              "      <td>-0.159709</td>\n",
              "      <td>Female</td>\n",
              "      <td>Loyal Customer</td>\n",
              "      <td>Business travel</td>\n",
              "      <td>2.0</td>\n",
              "      <td>2</td>\n",
              "      <td>5</td>\n",
              "      <td>5</td>\n",
              "      <td>5</td>\n",
              "      <td>2</td>\n",
              "      <td>2</td>\n",
              "      <td>2</td>\n",
              "      <td>2</td>\n",
              "      <td>2</td>\n",
              "      <td>5</td>\n",
              "      <td>3</td>\n",
              "      <td>1</td>\n",
              "      <td>4</td>\n",
              "      <td>2</td>\n",
              "      <td>1.0</td>\n",
              "      <td>0.0</td>\n",
              "      <td>0.0</td>\n",
              "      <td>0.0</td>\n",
              "    </tr>\n",
              "    <tr>\n",
              "      <th>4</th>\n",
              "      <td>1.433268</td>\n",
              "      <td>-1.416637</td>\n",
              "      <td>-0.388466</td>\n",
              "      <td>-0.393291</td>\n",
              "      <td>Male</td>\n",
              "      <td>Loyal Customer</td>\n",
              "      <td>Business travel</td>\n",
              "      <td>2.0</td>\n",
              "      <td>3</td>\n",
              "      <td>3</td>\n",
              "      <td>3</td>\n",
              "      <td>3</td>\n",
              "      <td>4</td>\n",
              "      <td>5</td>\n",
              "      <td>5</td>\n",
              "      <td>3</td>\n",
              "      <td>3</td>\n",
              "      <td>4</td>\n",
              "      <td>4</td>\n",
              "      <td>3</td>\n",
              "      <td>3</td>\n",
              "      <td>3</td>\n",
              "      <td>0.0</td>\n",
              "      <td>1.0</td>\n",
              "      <td>0.0</td>\n",
              "      <td>0.0</td>\n",
              "    </tr>\n",
              "  </tbody>\n",
              "</table>\n",
              "</div>"
            ],
            "text/plain": [
              "        Age  ...  Type of Travel_Personal Travel\n",
              "0 -1.746215  ...                             1.0\n",
              "1 -0.951344  ...                             0.0\n",
              "2 -0.885105  ...                             0.0\n",
              "3 -0.951344  ...                             0.0\n",
              "4  1.433268  ...                             0.0\n",
              "\n",
              "[5 rows x 26 columns]"
            ]
          },
          "execution_count": 49,
          "metadata": {},
          "output_type": "execute_result"
        }
      ]
    },
    {
      "cell_type": "code",
      "metadata": {
        "colab": {
          "base_uri": "https://localhost:8080/"
        },
        "id": "AOMQMjd-77zF",
        "outputId": "9bc95f71-cdb2-4faa-ce8b-ae10c55bb3b9"
      },
      "source": [
        "dF.isnull().sum()"
      ],
      "execution_count": null,
      "outputs": [
        {
          "data": {
            "text/plain": [
              "Age                                  238\n",
              "Flight Distance                      238\n",
              "Departure Delay in Minutes           238\n",
              "Arrival Delay in Minutes             238\n",
              "Gender                               238\n",
              "Customer Type                        238\n",
              "Type of Travel                       238\n",
              "Class                                238\n",
              "Inflight wifi service                238\n",
              "Departure/Arrival time convenient    238\n",
              "Ease of Online booking               238\n",
              "Gate location                        238\n",
              "Food and drink                       238\n",
              "Online boarding                      238\n",
              "Seat comfort                         238\n",
              "Inflight entertainment               238\n",
              "On-board service                     238\n",
              "Leg room service                     238\n",
              "Baggage handling                     238\n",
              "Checkin service                      238\n",
              "Inflight service                     238\n",
              "Cleanliness                          238\n",
              "satisfaction                         238\n",
              "Gender_Male                          238\n",
              "Customer Type_disloyal Customer      238\n",
              "Type of Travel_Personal Travel       238\n",
              "dtype: int64"
            ]
          },
          "execution_count": 50,
          "metadata": {},
          "output_type": "execute_result"
        }
      ]
    },
    {
      "cell_type": "code",
      "metadata": {
        "id": "hZiFKtt877zG"
      },
      "source": [
        "dF.dropna(inplace=True)"
      ],
      "execution_count": null,
      "outputs": []
    },
    {
      "cell_type": "code",
      "metadata": {
        "colab": {
          "base_uri": "https://localhost:8080/"
        },
        "id": "yFHZuZSi77zG",
        "outputId": "4f41db0a-4fc9-4d39-e497-920c527ed272"
      },
      "source": [
        "data = dF.drop(columns=['Gender','Customer Type','Type of Travel','satisfaction'])\n",
        "target = dF['satisfaction']\n",
        "print(data.shape)\n",
        "print(target.shape)"
      ],
      "execution_count": null,
      "outputs": [
        {
          "name": "stdout",
          "output_type": "stream",
          "text": [
            "(79990, 22)\n",
            "(79990,)\n"
          ]
        }
      ]
    },
    {
      "cell_type": "code",
      "metadata": {
        "colab": {
          "base_uri": "https://localhost:8080/"
        },
        "id": "zVX9afdU77zH",
        "outputId": "da12142e-66ae-4beb-fae9-d18f6d13dfae"
      },
      "source": [
        "# Train Test split\n",
        "from sklearn.model_selection import train_test_split\n",
        "X_train, X_test, y_train, y_test = train_test_split(data, target, test_size = 0.2, random_state = 0)\n",
        "print(X_train.shape)\n",
        "print(y_train.shape)\n",
        "print(X_test.shape)\n",
        "print(y_test.shape)"
      ],
      "execution_count": null,
      "outputs": [
        {
          "name": "stdout",
          "output_type": "stream",
          "text": [
            "(63992, 22)\n",
            "(63992,)\n",
            "(15998, 22)\n",
            "(15998,)\n"
          ]
        }
      ]
    },
    {
      "cell_type": "markdown",
      "metadata": {
        "id": "XdUSKJiE77zH"
      },
      "source": [
        "# Model Building and Training"
      ]
    },
    {
      "cell_type": "code",
      "metadata": {
        "colab": {
          "base_uri": "https://localhost:8080/"
        },
        "id": "pnPp57bs77zH",
        "outputId": "a128b982-f9db-4ac9-8f66-39fadf5d8f4b"
      },
      "source": [
        "# Use RFE for Feature selection\n",
        "from sklearn.feature_selection import RFE\n",
        "from sklearn.linear_model import LogisticRegression\n",
        "\n",
        "LR = LogisticRegression()\n",
        "LR_RFE = RFE(estimator=LR ,\n",
        "            n_features_to_select=10)\n",
        "LR_RFE.fit(X_train, y_train)"
      ],
      "execution_count": null,
      "outputs": [
        {
          "data": {
            "text/plain": [
              "RFE(estimator=LogisticRegression(C=1.0, class_weight=None, dual=False,\n",
              "                                 fit_intercept=True, intercept_scaling=1,\n",
              "                                 l1_ratio=None, max_iter=100,\n",
              "                                 multi_class='auto', n_jobs=None, penalty='l2',\n",
              "                                 random_state=None, solver='lbfgs', tol=0.0001,\n",
              "                                 verbose=0, warm_start=False),\n",
              "    n_features_to_select=10, step=1, verbose=0)"
            ]
          },
          "execution_count": 54,
          "metadata": {},
          "output_type": "execute_result"
        }
      ]
    },
    {
      "cell_type": "code",
      "metadata": {
        "id": "Gc4qvgFD77zI",
        "outputId": "3bba7c1f-1370-49fa-d775-b9b27133c816"
      },
      "source": [
        "# Features and Ranking\n",
        "temp_df = pd.DataFrame({'Columns': X_train.columns, 'Included': LR_RFE.support_, 'Ranking': LR_RFE.ranking_})\n",
        "temp_df.loc[temp_df.Included == True, :]"
      ],
      "execution_count": null,
      "outputs": [
        {
          "data": {
            "text/html": [
              "<div>\n",
              "<style scoped>\n",
              "    .dataframe tbody tr th:only-of-type {\n",
              "        vertical-align: middle;\n",
              "    }\n",
              "\n",
              "    .dataframe tbody tr th {\n",
              "        vertical-align: top;\n",
              "    }\n",
              "\n",
              "    .dataframe thead th {\n",
              "        text-align: right;\n",
              "    }\n",
              "</style>\n",
              "<table border=\"1\" class=\"dataframe\">\n",
              "  <thead>\n",
              "    <tr style=\"text-align: right;\">\n",
              "      <th></th>\n",
              "      <th>Columns</th>\n",
              "      <th>Included</th>\n",
              "      <th>Ranking</th>\n",
              "    </tr>\n",
              "  </thead>\n",
              "  <tbody>\n",
              "    <tr>\n",
              "      <th>4</th>\n",
              "      <td>Class</td>\n",
              "      <td>True</td>\n",
              "      <td>1</td>\n",
              "    </tr>\n",
              "    <tr>\n",
              "      <th>5</th>\n",
              "      <td>Inflight wifi service</td>\n",
              "      <td>True</td>\n",
              "      <td>1</td>\n",
              "    </tr>\n",
              "    <tr>\n",
              "      <th>6</th>\n",
              "      <td>Departure/Arrival time convenient</td>\n",
              "      <td>True</td>\n",
              "      <td>1</td>\n",
              "    </tr>\n",
              "    <tr>\n",
              "      <th>7</th>\n",
              "      <td>Ease of Online booking</td>\n",
              "      <td>True</td>\n",
              "      <td>1</td>\n",
              "    </tr>\n",
              "    <tr>\n",
              "      <th>10</th>\n",
              "      <td>Online boarding</td>\n",
              "      <td>True</td>\n",
              "      <td>1</td>\n",
              "    </tr>\n",
              "    <tr>\n",
              "      <th>12</th>\n",
              "      <td>Inflight entertainment</td>\n",
              "      <td>True</td>\n",
              "      <td>1</td>\n",
              "    </tr>\n",
              "    <tr>\n",
              "      <th>13</th>\n",
              "      <td>On-board service</td>\n",
              "      <td>True</td>\n",
              "      <td>1</td>\n",
              "    </tr>\n",
              "    <tr>\n",
              "      <th>14</th>\n",
              "      <td>Leg room service</td>\n",
              "      <td>True</td>\n",
              "      <td>1</td>\n",
              "    </tr>\n",
              "    <tr>\n",
              "      <th>16</th>\n",
              "      <td>Checkin service</td>\n",
              "      <td>True</td>\n",
              "      <td>1</td>\n",
              "    </tr>\n",
              "    <tr>\n",
              "      <th>18</th>\n",
              "      <td>Cleanliness</td>\n",
              "      <td>True</td>\n",
              "      <td>1</td>\n",
              "    </tr>\n",
              "  </tbody>\n",
              "</table>\n",
              "</div>"
            ],
            "text/plain": [
              "                              Columns  Included  Ranking\n",
              "4                               Class      True        1\n",
              "5               Inflight wifi service      True        1\n",
              "6   Departure/Arrival time convenient      True        1\n",
              "7              Ease of Online booking      True        1\n",
              "10                    Online boarding      True        1\n",
              "12             Inflight entertainment      True        1\n",
              "13                   On-board service      True        1\n",
              "14                   Leg room service      True        1\n",
              "16                    Checkin service      True        1\n",
              "18                        Cleanliness      True        1"
            ]
          },
          "execution_count": 55,
          "metadata": {},
          "output_type": "execute_result"
        }
      ]
    },
    {
      "cell_type": "code",
      "metadata": {
        "id": "iJw1gg4N77zJ"
      },
      "source": [
        "X_train_cols = list(X_train.columns[LR_RFE.support_])"
      ],
      "execution_count": null,
      "outputs": []
    },
    {
      "cell_type": "code",
      "metadata": {
        "colab": {
          "base_uri": "https://localhost:8080/"
        },
        "id": "nZIHRda477zJ",
        "outputId": "45d44a4b-ecc9-4f44-fc61-130342ad603f"
      },
      "source": [
        "X_train_rfe = X_train[X_train_cols]\n",
        "\n",
        "X_train_rfe.shape"
      ],
      "execution_count": null,
      "outputs": [
        {
          "data": {
            "text/plain": [
              "(63992, 10)"
            ]
          },
          "execution_count": 56,
          "metadata": {},
          "output_type": "execute_result"
        }
      ]
    },
    {
      "cell_type": "markdown",
      "metadata": {
        "id": "UHhy9t6577zK"
      },
      "source": [
        "Note : We don't check correlation because there is only one numeric column"
      ]
    },
    {
      "cell_type": "code",
      "metadata": {
        "colab": {
          "base_uri": "https://localhost:8080/",
          "height": 240
        },
        "id": "ywF62IJU77zK",
        "outputId": "d8550521-9c57-40f7-f2dc-6f761e19258e"
      },
      "source": [
        "X_train_rfe.head()"
      ],
      "execution_count": null,
      "outputs": [
        {
          "data": {
            "text/html": [
              "<div>\n",
              "<style scoped>\n",
              "    .dataframe tbody tr th:only-of-type {\n",
              "        vertical-align: middle;\n",
              "    }\n",
              "\n",
              "    .dataframe tbody tr th {\n",
              "        vertical-align: top;\n",
              "    }\n",
              "\n",
              "    .dataframe thead th {\n",
              "        text-align: right;\n",
              "    }\n",
              "</style>\n",
              "<table border=\"1\" class=\"dataframe\">\n",
              "  <thead>\n",
              "    <tr style=\"text-align: right;\">\n",
              "      <th></th>\n",
              "      <th>Class</th>\n",
              "      <th>Inflight wifi service</th>\n",
              "      <th>Departure/Arrival time convenient</th>\n",
              "      <th>Ease of Online booking</th>\n",
              "      <th>Gate location</th>\n",
              "      <th>Online boarding</th>\n",
              "      <th>Inflight entertainment</th>\n",
              "      <th>On-board service</th>\n",
              "      <th>Leg room service</th>\n",
              "      <th>Checkin service</th>\n",
              "    </tr>\n",
              "  </thead>\n",
              "  <tbody>\n",
              "    <tr>\n",
              "      <th>22160</th>\n",
              "      <td>2.0</td>\n",
              "      <td>4</td>\n",
              "      <td>0</td>\n",
              "      <td>4</td>\n",
              "      <td>2</td>\n",
              "      <td>4</td>\n",
              "      <td>1</td>\n",
              "      <td>4</td>\n",
              "      <td>5</td>\n",
              "      <td>3</td>\n",
              "    </tr>\n",
              "    <tr>\n",
              "      <th>56399</th>\n",
              "      <td>2.0</td>\n",
              "      <td>5</td>\n",
              "      <td>2</td>\n",
              "      <td>2</td>\n",
              "      <td>1</td>\n",
              "      <td>5</td>\n",
              "      <td>4</td>\n",
              "      <td>4</td>\n",
              "      <td>2</td>\n",
              "      <td>3</td>\n",
              "    </tr>\n",
              "    <tr>\n",
              "      <th>69109</th>\n",
              "      <td>2.0</td>\n",
              "      <td>0</td>\n",
              "      <td>5</td>\n",
              "      <td>0</td>\n",
              "      <td>4</td>\n",
              "      <td>5</td>\n",
              "      <td>5</td>\n",
              "      <td>5</td>\n",
              "      <td>5</td>\n",
              "      <td>4</td>\n",
              "    </tr>\n",
              "    <tr>\n",
              "      <th>77865</th>\n",
              "      <td>2.0</td>\n",
              "      <td>3</td>\n",
              "      <td>4</td>\n",
              "      <td>3</td>\n",
              "      <td>3</td>\n",
              "      <td>3</td>\n",
              "      <td>2</td>\n",
              "      <td>3</td>\n",
              "      <td>2</td>\n",
              "      <td>3</td>\n",
              "    </tr>\n",
              "    <tr>\n",
              "      <th>27773</th>\n",
              "      <td>2.0</td>\n",
              "      <td>4</td>\n",
              "      <td>4</td>\n",
              "      <td>4</td>\n",
              "      <td>4</td>\n",
              "      <td>5</td>\n",
              "      <td>4</td>\n",
              "      <td>4</td>\n",
              "      <td>4</td>\n",
              "      <td>4</td>\n",
              "    </tr>\n",
              "  </tbody>\n",
              "</table>\n",
              "</div>"
            ],
            "text/plain": [
              "       Class Inflight wifi service  ... Leg room service Checkin service\n",
              "22160    2.0                     4  ...                5               3\n",
              "56399    2.0                     5  ...                2               3\n",
              "69109    2.0                     0  ...                5               4\n",
              "77865    2.0                     3  ...                2               3\n",
              "27773    2.0                     4  ...                4               4\n",
              "\n",
              "[5 rows x 10 columns]"
            ]
          },
          "execution_count": 57,
          "metadata": {},
          "output_type": "execute_result"
        }
      ]
    },
    {
      "cell_type": "code",
      "metadata": {
        "id": "M1vHXFX877zK"
      },
      "source": [
        "X_test_rfe = X_test[X_train_cols]"
      ],
      "execution_count": null,
      "outputs": []
    },
    {
      "cell_type": "markdown",
      "metadata": {
        "id": "O2OHdSJn77zL"
      },
      "source": [
        "____________________________________________________________________________"
      ]
    },
    {
      "cell_type": "code",
      "metadata": {
        "id": "lg_A32PH77zL",
        "outputId": "84d66cb4-6fb8-4bc2-da26-b833307d8fa9"
      },
      "source": [
        "# Logistic Regression\n",
        "from sklearn.model_selection import GridSearchCV\n",
        "tuned_hyperparameters = [{'C': [0.001,0.01, 0.1, 1, 10, 100] ,'penalty':['l1','l2']}]\n",
        "\n",
        "LR = GridSearchCV(LogisticRegression(), tuned_hyperparameters)\n",
        "LR.fit(X_train_rfe, y_train)\n",
        "print(LR.best_params_)\n",
        "print(LR.best_estimator_)\n",
        "print(LR.score(X_test_rfe, y_test))\n",
        "y_test_LR = LR.predict(X_test_rfe)"
      ],
      "execution_count": null,
      "outputs": [
        {
          "name": "stdout",
          "output_type": "stream",
          "text": [
            "{'C': 0.001, 'penalty': 'l2'}\n",
            "LogisticRegression(C=0.001)\n",
            "0.8414096916299559\n"
          ]
        }
      ]
    },
    {
      "cell_type": "code",
      "metadata": {
        "id": "TXnrPE8b77zM",
        "outputId": "ea2de605-a6b6-43bc-ad93-f1c8d88606db"
      },
      "source": [
        "# Confusion Matrix and ROC-AUC Curve\n",
        "metrics.plot_confusion_matrix(LR, X_test_rfe, y_test)\n",
        "metrics.plot_roc_curve(LR, X_test_rfe,y_test)"
      ],
      "execution_count": null,
      "outputs": [
        {
          "data": {
            "text/plain": [
              "<sklearn.metrics._plot.roc_curve.RocCurveDisplay at 0x7fddfe80c990>"
            ]
          },
          "execution_count": 90,
          "metadata": {},
          "output_type": "execute_result"
        },
        {
          "data": {
            "image/png": "[encoded data removed]",
            "text/plain": [
              "<Figure size 432x288 with 2 Axes>"
            ]
          },
          "metadata": {},
          "output_type": "display_data"
        },
        {
          "data": {
            "image/png": "[encoded data removed]",
            "text/plain": [
              "<Figure size 432x288 with 1 Axes>"
            ]
          },
          "metadata": {},
          "output_type": "display_data"
        }
      ]
    },
    {
      "cell_type": "code",
      "metadata": {
        "id": "db5Hpn3D77zN",
        "outputId": "ada6298f-959e-4072-8422-51099fb35b88"
      },
      "source": [
        "# Precision, Recall and F1-score\n",
        "target_names = ['neutral or dissatisfied','satisfied']\n",
        "print(metrics.classification_report(y_test, y_test_LR, target_names=target_names))"
      ],
      "execution_count": null,
      "outputs": [
        {
          "name": "stdout",
          "output_type": "stream",
          "text": [
            "                         precision    recall  f1-score   support\n",
            "\n",
            "neutral or dissatisfied       0.83      0.79      0.81      8995\n",
            "              satisfied       0.85      0.88      0.86     11662\n",
            "\n",
            "               accuracy                           0.84     20657\n",
            "              macro avg       0.84      0.84      0.84     20657\n",
            "           weighted avg       0.84      0.84      0.84     20657\n",
            "\n"
          ]
        }
      ]
    },
    {
      "cell_type": "markdown",
      "metadata": {
        "id": "89yFU3lB77zN"
      },
      "source": [
        "__________________________________________________________________________________________________________"
      ]
    },
    {
      "cell_type": "code",
      "metadata": {
        "id": "d6fXI_MC77zN",
        "outputId": "37c56914-2588-4f34-c814-ea0d05d670b9"
      },
      "source": [
        "# Decision Tree Classifier\n",
        "from sklearn.tree import DecisionTreeClassifier\n",
        "tuned_parameters = [{ 'criterion' :['gini', 'entropy'], 'max_depth': [4,5,6,7,8,9,10,11,12,15,20,30,40,50,70,90,120,150]}]\n",
        "DTC = GridSearchCV(DecisionTreeClassifier(), tuned_parameters, cv = 5)\n",
        "DTC.fit(X_train_rfe, y_train)\n",
        "print('Best Parameters for Decision Tree Classifier :\\n')\n",
        "print(DTC.best_params_)\n",
        "print(DTC.best_estimator_)\n",
        "print(DTC.score(X_test_rfe, y_test))\n",
        "y_test_DTC = DTC.predict(X_test_rfe)"
      ],
      "execution_count": null,
      "outputs": [
        {
          "name": "stdout",
          "output_type": "stream",
          "text": [
            "Best Parameters for Decision Tree Classifier :\n",
            "\n",
            "{'criterion': 'gini', 'max_depth': 12}\n",
            "DecisionTreeClassifier(max_depth=12)\n",
            "0.9318874957641478\n"
          ]
        }
      ]
    },
    {
      "cell_type": "code",
      "metadata": {
        "id": "N8BLlsV677zO",
        "outputId": "3c09010a-51a3-4ad4-93f2-99e078c81341"
      },
      "source": [
        "# Confusion Matrix and ROC AUC Curve\n",
        "metrics.plot_confusion_matrix(DTC, X_test_rfe, y_test)\n",
        "metrics.plot_roc_curve(DTC, X_test_rfe,y_test)"
      ],
      "execution_count": null,
      "outputs": [
        {
          "data": {
            "text/plain": [
              "<sklearn.metrics._plot.roc_curve.RocCurveDisplay at 0x7fddfdb101d0>"
            ]
          },
          "execution_count": 96,
          "metadata": {},
          "output_type": "execute_result"
        },
        {
          "data": {
            "image/png": "[encoded data removed]",
            "text/plain": [
              "<Figure size 432x288 with 2 Axes>"
            ]
          },
          "metadata": {},
          "output_type": "display_data"
        },
        {
          "data": {
            "image/png": "[encoded data removed]",
            "text/plain": [
              "<Figure size 432x288 with 1 Axes>"
            ]
          },
          "metadata": {},
          "output_type": "display_data"
        }
      ]
    },
    {
      "cell_type": "code",
      "metadata": {
        "id": "2hyfHTi-77zO",
        "outputId": "4a43c6a9-1ec2-4753-8c77-2c236cf5c6d3"
      },
      "source": [
        "# Precision, Recall and F1-score\n",
        "target_names = ['neutral or dissatisfied','satisfied']\n",
        "print(metrics.classification_report(y_test, y_test_DTC, target_names=target_names))"
      ],
      "execution_count": null,
      "outputs": [
        {
          "name": "stdout",
          "output_type": "stream",
          "text": [
            "                         precision    recall  f1-score   support\n",
            "\n",
            "neutral or dissatisfied       0.93      0.92      0.92      8995\n",
            "              satisfied       0.94      0.94      0.94     11662\n",
            "\n",
            "               accuracy                           0.93     20657\n",
            "              macro avg       0.93      0.93      0.93     20657\n",
            "           weighted avg       0.93      0.93      0.93     20657\n",
            "\n"
          ]
        }
      ]
    },
    {
      "cell_type": "markdown",
      "metadata": {
        "id": "tDYoCLtN77zP"
      },
      "source": [
        "_________________________________________________________________________________________"
      ]
    },
    {
      "cell_type": "code",
      "metadata": {
        "id": "sHhCSmbT77zP",
        "outputId": "20fb9096-26f3-47ba-ba24-d47928c79b67"
      },
      "source": [
        "# KNN\n",
        "from sklearn.neighbors import KNeighborsClassifier\n",
        "tuned_parameters = [{'n_neighbors':[5,7,9,13,17], 'p':[1,2,3,4]}]\n",
        "\n",
        "KNeighbors = GridSearchCV(KNeighborsClassifier(), tuned_parameters, scoring='accuracy')\n",
        "KNeighbors.fit(X_train_rfe, y_train)\n",
        "print(KNeighbors.best_params_)\n",
        "print(KNeighbors.best_estimator_)\n",
        "print(KNeighbors.score(X_test_rfe, y_test))\n",
        "y_test_KNN = KNeighbors.predict(X_test_rfe)"
      ],
      "execution_count": null,
      "outputs": [
        {
          "name": "stdout",
          "output_type": "stream",
          "text": [
            "{'n_neighbors': 17, 'p': 1}\n",
            "KNeighborsClassifier(n_neighbors=17, p=1)\n",
            "0.9280631263010117\n"
          ]
        }
      ]
    },
    {
      "cell_type": "code",
      "metadata": {
        "id": "y1Y7k6J677zP",
        "outputId": "d21efe1e-4375-4275-aef5-3f8bb41b5787"
      },
      "source": [
        "# Confusion Matrix and ROC-AUC Plot\n",
        "metrics.plot_confusion_matrix(KNeighbors, X_test_rfe, y_test)\n",
        "metrics.plot_roc_curve(KNeighbors, X_test_rfe, y_test)"
      ],
      "execution_count": null,
      "outputs": [
        {
          "data": {
            "text/plain": [
              "<sklearn.metrics._plot.roc_curve.RocCurveDisplay at 0x7fddfdd46890>"
            ]
          },
          "execution_count": 102,
          "metadata": {},
          "output_type": "execute_result"
        },
        {
          "data": {
            "image/png": "[encoded data removed]",
            "text/plain": [
              "<Figure size 432x288 with 2 Axes>"
            ]
          },
          "metadata": {},
          "output_type": "display_data"
        },
        {
          "data": {
            "image/png": "[encoded data removed]",
            "text/plain": [
              "<Figure size 432x288 with 1 Axes>"
            ]
          },
          "metadata": {},
          "output_type": "display_data"
        }
      ]
    },
    {
      "cell_type": "code",
      "metadata": {
        "id": "yA8kMd8-77zQ",
        "outputId": "07905e1d-89cf-42b0-8d8c-fd1c25b40d2a"
      },
      "source": [
        "# Precision, Recall and F1-score\n",
        "target_names = ['neutral or dissatisfied','satisfied']\n",
        "print(metrics.classification_report(y_test, y_test_KNN, target_names=target_names))"
      ],
      "execution_count": null,
      "outputs": [
        {
          "name": "stdout",
          "output_type": "stream",
          "text": [
            "                         precision    recall  f1-score   support\n",
            "\n",
            "neutral or dissatisfied       0.93      0.90      0.92      8995\n",
            "              satisfied       0.93      0.95      0.94     11662\n",
            "\n",
            "               accuracy                           0.93     20657\n",
            "              macro avg       0.93      0.93      0.93     20657\n",
            "           weighted avg       0.93      0.93      0.93     20657\n",
            "\n"
          ]
        }
      ]
    },
    {
      "cell_type": "markdown",
      "metadata": {
        "id": "Eo2P38zr77zQ"
      },
      "source": [
        "_____________________________________________________________________________"
      ]
    },
    {
      "cell_type": "code",
      "metadata": {
        "id": "wlLJhKxD77zQ"
      },
      "source": [
        "# Random Forest\n",
        "from sklearn.ensemble import RandomForestClassifier\n",
        "from sklearn.model_selection import RandomizedSearchCV\n",
        "tuned_parameters = [{'max_depth': [10, 20, 30, 40, 50, 60, 70, 80, 90, 100], \n",
        "                    'n_estimators': [200, 400, 600, 800, 1000, 1200, 1400, 1600, 1800, 2000]}]\n",
        "RF = RandomizedSearchCV(RandomForestClassifier(), tuned_parameters, scoring='accuracy')\n",
        "RF.fit(X_train_rfe, y_train)\n",
        "print(RF.best_params_)\n",
        "print(RF.best_estimator_)\n",
        "print(RF.score(X_test_rfe, y_test))\n",
        "y_test_RF = RF.predict(X_test_rfe)"
      ],
      "execution_count": null,
      "outputs": []
    },
    {
      "cell_type": "code",
      "metadata": {
        "colab": {
          "background_save": true
        },
        "id": "aAQAGDTC77zR",
        "outputId": "1a02cae6-b6a4-44ed-8d37-cf8857e08606"
      },
      "source": [
        "# Confusion Matrix and ROC-AUC Plot\n",
        "from sklearn import metrics\n",
        "metrics.plot_confusion_matrix(RF, X_test_rfe, y_test)\n",
        "metrics.plot_roc_curve(RF, X_test_rfe, y_test)"
      ],
      "execution_count": null,
      "outputs": [
        {
          "data": {
            "text/plain": [
              "<sklearn.metrics._plot.roc_curve.RocCurveDisplay at 0x7f9425492f10>"
            ]
          },
          "execution_count": null,
          "metadata": {},
          "output_type": "execute_result"
        },
        {
          "data": {
            "image/png": "[encoded data removed]",
            "text/plain": [
              "<Figure size 432x288 with 2 Axes>"
            ]
          },
          "metadata": {},
          "output_type": "display_data"
        },
        {
          "data": {
            "image/png": "[encoded data removed]",
            "text/plain": [
              "<Figure size 432x288 with 1 Axes>"
            ]
          },
          "metadata": {},
          "output_type": "display_data"
        }
      ]
    },
    {
      "cell_type": "code",
      "metadata": {
        "colab": {
          "background_save": true
        },
        "id": "I69zTGvn77zR",
        "outputId": "96f042c0-dda1-4a92-f3fa-4ebfd345a476"
      },
      "source": [
        "# Precision, Recall and F1-score\n",
        "target_names = ['neutral or dissatisfied','satisfied']\n",
        "print(metrics.classification_report(y_test, y_test_RF, target_names=target_names))"
      ],
      "execution_count": null,
      "outputs": [
        {
          "name": "stdout",
          "output_type": "stream",
          "text": [
            "                         precision    recall  f1-score   support\n",
            "\n",
            "neutral or dissatisfied       0.94      0.92      0.93      6940\n",
            "              satisfied       0.94      0.96      0.95      9058\n",
            "\n",
            "               accuracy                           0.94     15998\n",
            "              macro avg       0.94      0.94      0.94     15998\n",
            "           weighted avg       0.94      0.94      0.94     15998\n",
            "\n"
          ]
        }
      ]
    },
    {
      "cell_type": "markdown",
      "metadata": {
        "id": "TJjg5TiT77zS"
      },
      "source": [
        "Random Forest performs better than other models, having accuracy of 0.93 and F1 score of 0.94"
      ]
    }
  ]
}